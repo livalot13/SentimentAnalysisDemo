{
 "cells": [
  {
   "cell_type": "code",
   "execution_count": 63,
   "id": "05beca41-032b-484d-a7c8-c00d9d48d20c",
   "metadata": {},
   "outputs": [],
   "source": [
    "import os\n",
    "import nltk\n",
    "import nltk.corpus"
   ]
  },
  {
   "cell_type": "code",
   "execution_count": 64,
   "id": "b9f2f84c-b623-43dd-9e20-10363acc7e2e",
   "metadata": {},
   "outputs": [
    {
     "name": "stderr",
     "output_type": "stream",
     "text": [
      "[nltk_data] Downloading package brown to /home/olivia/nltk_data...\n",
      "[nltk_data]   Package brown is already up-to-date!\n",
      "[nltk_data] Downloading package gutenberg to /home/olivia/nltk_data...\n",
      "[nltk_data]   Package gutenberg is already up-to-date!\n",
      "[nltk_data] Downloading package punkt to /home/olivia/nltk_data...\n",
      "[nltk_data]   Package punkt is already up-to-date!\n"
     ]
    },
    {
     "data": {
      "text/plain": [
       "True"
      ]
     },
     "execution_count": 64,
     "metadata": {},
     "output_type": "execute_result"
    }
   ],
   "source": [
    "nltk.download('brown')\n",
    "nltk.download('gutenberg')\n",
    "nltk.download('punkt')"
   ]
  },
  {
   "cell_type": "code",
   "execution_count": 65,
   "id": "8f409894-8f74-4f20-9782-648aad72f8bb",
   "metadata": {},
   "outputs": [
    {
     "data": {
      "text/plain": [
       "['The', 'Fulton', 'County', 'Grand', 'Jury', 'said', ...]"
      ]
     },
     "execution_count": 65,
     "metadata": {},
     "output_type": "execute_result"
    }
   ],
   "source": [
    "from nltk.corpus import brown\n",
    "brown.words()"
   ]
  },
  {
   "cell_type": "code",
   "execution_count": 66,
   "id": "09f26ac3-1e5b-46f9-862a-90a702d9fa93",
   "metadata": {},
   "outputs": [
    {
     "data": {
      "text/plain": [
       "['austen-emma.txt',\n",
       " 'austen-persuasion.txt',\n",
       " 'austen-sense.txt',\n",
       " 'bible-kjv.txt',\n",
       " 'blake-poems.txt',\n",
       " 'bryant-stories.txt',\n",
       " 'burgess-busterbrown.txt',\n",
       " 'carroll-alice.txt',\n",
       " 'chesterton-ball.txt',\n",
       " 'chesterton-brown.txt',\n",
       " 'chesterton-thursday.txt',\n",
       " 'edgeworth-parents.txt',\n",
       " 'melville-moby_dick.txt',\n",
       " 'milton-paradise.txt',\n",
       " 'shakespeare-caesar.txt',\n",
       " 'shakespeare-hamlet.txt',\n",
       " 'shakespeare-macbeth.txt',\n",
       " 'whitman-leaves.txt']"
      ]
     },
     "execution_count": 66,
     "metadata": {},
     "output_type": "execute_result"
    }
   ],
   "source": [
    "nltk.corpus.gutenberg.fileids()"
   ]
  },
  {
   "cell_type": "code",
   "execution_count": 67,
   "id": "2d34d601-5005-4445-90c7-9dc5ccd8ae6a",
   "metadata": {},
   "outputs": [
    {
     "data": {
      "text/plain": [
       "['[', 'The', 'Tragedie', 'of', 'Hamlet', 'by', ...]"
      ]
     },
     "execution_count": 67,
     "metadata": {},
     "output_type": "execute_result"
    }
   ],
   "source": [
    "hamlet = nltk.corpus.gutenberg.words('shakespeare-hamlet.txt')\n",
    "hamlet"
   ]
  },
  {
   "cell_type": "code",
   "execution_count": 68,
   "id": "9d13a1fe-49fa-47d2-bd7e-a9b3a6080669",
   "metadata": {},
   "outputs": [
    {
     "name": "stdout",
     "output_type": "stream",
     "text": [
      "[ The Tragedie of Hamlet by William Shakespeare 1599 ] Actus Primus . Scoena Prima . Enter Barnardo and Francisco two Centinels . Barnardo . Who ' s there ? Fran . Nay answer me : Stand & vnfold your selfe Bar . Long liue the King Fran . Barnardo ? Bar . He Fran . You come most carefully vpon your houre Bar . ' Tis now strook twelue , get thee to bed Francisco Fran . For this releefe much thankes : ' Tis bitter cold , And I am sicke at heart Barn . Haue you had quiet Guard ? Fran . Not a Mouse stirring Barn . Well , goodnight . If you do meet Horatio and Marcellus , the Riuals of my Watch , bid them make hast . Enter Horatio and Marcellus . Fran . I thinke I heare them . Stand : who ' s there ? Hor . Friends to this ground Mar . And Leige - men to the Dane Fran . Giue you good night Mar . O farwel honest Soldier , who hath relieu ' d you ? Fra . Barnardo ha ' s my place : giue you goodnight . Exit Fran . Mar . Holla Barnardo Bar . Say , what is Horatio there ? Hor . A peece of him Bar . Welcome Horatio , welcome good Marcellus Mar . What , ha ' s this thing appear ' d againe to night Bar . I haue seene nothing Mar . Horatio saies , ' tis but our Fantasie , And will not let beleefe take hold of him Touching this dreaded sight , twice seene of vs , Therefore I haue intreated him along With vs , to watch the minutes of this Night , That if againe this Apparition come , He may approue our eyes , and speake to it Hor . Tush , tush , ' twill not appeare Bar . Sit downe a - while , And let vs once againe assaile your eares , That are so fortified against our Story , What we two Nights haue seene Hor . Well , sit we downe , And let vs heare Barnardo speake of this Barn . Last night of all , When yond same Starre that ' s Westward from the Pole Had made his course t ' illume that part of Heauen Where now it burnes , Marcellus and my selfe , The Bell then beating one Mar . Peace , breake thee of : Enter the Ghost . Looke where it comes againe Barn . In the same figure , like the King that ' s dead Mar . Thou art a Scholler ; speake to it Horatio Barn . Lookes it not like the King ? Marke it Horatio Hora . Most like : It harrowes me with fear & wonder Barn . It would be spoke too Mar . Question it Horatio Hor . What art "
     ]
    }
   ],
   "source": [
    "for word in hamlet[:500]:\n",
    "    print(word, sep=' ', end=' ')"
   ]
  },
  {
   "cell_type": "code",
   "execution_count": 69,
   "id": "f5a84b4f-1a5c-46da-b488-ca9e51267fe4",
   "metadata": {},
   "outputs": [],
   "source": [
    "springs = \"\"\"As you navigate the pages of our website, you will discover a school community where students are encouraged to lead and explore. The backdrop of an Indian Springs education is our 350-acre campus, unrivaled in its natural beauty and cutting edge facilities. Indian Springs’ students are inspired by a sense of place and nurtured by a world-class faculty whose passion for teaching and learning is surpassed only by their dedication to each individual student. Guided by our Motto, Learning through Living, Indian Springs has been educating ambitious and independent-thinking students from Birmingham, across the Southeast and United States, and around the world since 1952. \n",
    "\n",
    "Since I first arrived in July, 2020, I have witnessed the transformational power of the Indian Springs experience. Countless alums and current students have recounted their stories to me, and although each is distinct, they all share similarities that are at the heart of the Indian Springs journey. Our school community encourages students to discover their interests, passions, and who they are; teaches them to be self-advocates and courageous leaders; and challenges them through active participation in self-governance to make a positive impact on the world. Our Core Values of Innovative Thinking, Intellectual Curiosity, Integrity, Inclusion, Infinite Respect, and Involvement are the foundation of an Indian Springs education\n",
    "\n",
    "The pages within our website are a good introduction to the school, but words and pictures cannot replace experiencing Indian Springs School for yourself. I invite you to visit campus and see firsthand what makes Indian Springs so special. You will no doubt be captivated by the beauty of our campus as our resident swans swim across the lake, but more importantly, you will be struck by the sense of community and the deep and abiding relationships that we enjoy here. \n",
    "\n",
    "We look forward to seeing you on campus soon.\n",
    "\"\"\""
   ]
  },
  {
   "cell_type": "code",
   "execution_count": 70,
   "id": "d6e47be1-3d23-42ac-95ce-53a5e931aa99",
   "metadata": {},
   "outputs": [
    {
     "data": {
      "text/plain": [
       "str"
      ]
     },
     "execution_count": 70,
     "metadata": {},
     "output_type": "execute_result"
    }
   ],
   "source": [
    "type(springs)"
   ]
  },
  {
   "cell_type": "code",
   "execution_count": 71,
   "id": "8cc114e7-ea5e-48db-8e38-6027131937c5",
   "metadata": {},
   "outputs": [],
   "source": [
    "from nltk.tokenize import word_tokenize"
   ]
  },
  {
   "cell_type": "code",
   "execution_count": 72,
   "id": "bb3d7a2a-1521-4ce6-89d0-b8a62ddc4307",
   "metadata": {},
   "outputs": [
    {
     "data": {
      "text/plain": [
       "['As',\n",
       " 'you',\n",
       " 'navigate',\n",
       " 'the',\n",
       " 'pages',\n",
       " 'of',\n",
       " 'our',\n",
       " 'website',\n",
       " ',',\n",
       " 'you',\n",
       " 'will',\n",
       " 'discover',\n",
       " 'a',\n",
       " 'school',\n",
       " 'community',\n",
       " 'where',\n",
       " 'students',\n",
       " 'are',\n",
       " 'encouraged',\n",
       " 'to',\n",
       " 'lead',\n",
       " 'and',\n",
       " 'explore',\n",
       " '.',\n",
       " 'The',\n",
       " 'backdrop',\n",
       " 'of',\n",
       " 'an',\n",
       " 'Indian',\n",
       " 'Springs',\n",
       " 'education',\n",
       " 'is',\n",
       " 'our',\n",
       " '350-acre',\n",
       " 'campus',\n",
       " ',',\n",
       " 'unrivaled',\n",
       " 'in',\n",
       " 'its',\n",
       " 'natural',\n",
       " 'beauty',\n",
       " 'and',\n",
       " 'cutting',\n",
       " 'edge',\n",
       " 'facilities',\n",
       " '.',\n",
       " 'Indian',\n",
       " 'Springs',\n",
       " '’',\n",
       " 'students',\n",
       " 'are',\n",
       " 'inspired',\n",
       " 'by',\n",
       " 'a',\n",
       " 'sense',\n",
       " 'of',\n",
       " 'place',\n",
       " 'and',\n",
       " 'nurtured',\n",
       " 'by',\n",
       " 'a',\n",
       " 'world-class',\n",
       " 'faculty',\n",
       " 'whose',\n",
       " 'passion',\n",
       " 'for',\n",
       " 'teaching',\n",
       " 'and',\n",
       " 'learning',\n",
       " 'is',\n",
       " 'surpassed',\n",
       " 'only',\n",
       " 'by',\n",
       " 'their',\n",
       " 'dedication',\n",
       " 'to',\n",
       " 'each',\n",
       " 'individual',\n",
       " 'student',\n",
       " '.',\n",
       " 'Guided',\n",
       " 'by',\n",
       " 'our',\n",
       " 'Motto',\n",
       " ',',\n",
       " 'Learning',\n",
       " 'through',\n",
       " 'Living',\n",
       " ',',\n",
       " 'Indian',\n",
       " 'Springs',\n",
       " 'has',\n",
       " 'been',\n",
       " 'educating',\n",
       " 'ambitious',\n",
       " 'and',\n",
       " 'independent-thinking',\n",
       " 'students',\n",
       " 'from',\n",
       " 'Birmingham',\n",
       " ',',\n",
       " 'across',\n",
       " 'the',\n",
       " 'Southeast',\n",
       " 'and',\n",
       " 'United',\n",
       " 'States',\n",
       " ',',\n",
       " 'and',\n",
       " 'around',\n",
       " 'the',\n",
       " 'world',\n",
       " 'since',\n",
       " '1952',\n",
       " '.',\n",
       " 'Since',\n",
       " 'I',\n",
       " 'first',\n",
       " 'arrived',\n",
       " 'in',\n",
       " 'July',\n",
       " ',',\n",
       " '2020',\n",
       " ',',\n",
       " 'I',\n",
       " 'have',\n",
       " 'witnessed',\n",
       " 'the',\n",
       " 'transformational',\n",
       " 'power',\n",
       " 'of',\n",
       " 'the',\n",
       " 'Indian',\n",
       " 'Springs',\n",
       " 'experience',\n",
       " '.',\n",
       " 'Countless',\n",
       " 'alums',\n",
       " 'and',\n",
       " 'current',\n",
       " 'students',\n",
       " 'have',\n",
       " 'recounted',\n",
       " 'their',\n",
       " 'stories',\n",
       " 'to',\n",
       " 'me',\n",
       " ',',\n",
       " 'and',\n",
       " 'although',\n",
       " 'each',\n",
       " 'is',\n",
       " 'distinct',\n",
       " ',',\n",
       " 'they',\n",
       " 'all',\n",
       " 'share',\n",
       " 'similarities',\n",
       " 'that',\n",
       " 'are',\n",
       " 'at',\n",
       " 'the',\n",
       " 'heart',\n",
       " 'of',\n",
       " 'the',\n",
       " 'Indian',\n",
       " 'Springs',\n",
       " 'journey',\n",
       " '.',\n",
       " 'Our',\n",
       " 'school',\n",
       " 'community',\n",
       " 'encourages',\n",
       " 'students',\n",
       " 'to',\n",
       " 'discover',\n",
       " 'their',\n",
       " 'interests',\n",
       " ',',\n",
       " 'passions',\n",
       " ',',\n",
       " 'and',\n",
       " 'who',\n",
       " 'they',\n",
       " 'are',\n",
       " ';',\n",
       " 'teaches',\n",
       " 'them',\n",
       " 'to',\n",
       " 'be',\n",
       " 'self-advocates',\n",
       " 'and',\n",
       " 'courageous',\n",
       " 'leaders',\n",
       " ';',\n",
       " 'and',\n",
       " 'challenges',\n",
       " 'them',\n",
       " 'through',\n",
       " 'active',\n",
       " 'participation',\n",
       " 'in',\n",
       " 'self-governance',\n",
       " 'to',\n",
       " 'make',\n",
       " 'a',\n",
       " 'positive',\n",
       " 'impact',\n",
       " 'on',\n",
       " 'the',\n",
       " 'world',\n",
       " '.',\n",
       " 'Our',\n",
       " 'Core',\n",
       " 'Values',\n",
       " 'of',\n",
       " 'Innovative',\n",
       " 'Thinking',\n",
       " ',',\n",
       " 'Intellectual',\n",
       " 'Curiosity',\n",
       " ',',\n",
       " 'Integrity',\n",
       " ',',\n",
       " 'Inclusion',\n",
       " ',',\n",
       " 'Infinite',\n",
       " 'Respect',\n",
       " ',',\n",
       " 'and',\n",
       " 'Involvement',\n",
       " 'are',\n",
       " 'the',\n",
       " 'foundation',\n",
       " 'of',\n",
       " 'an',\n",
       " 'Indian',\n",
       " 'Springs',\n",
       " 'education',\n",
       " 'The',\n",
       " 'pages',\n",
       " 'within',\n",
       " 'our',\n",
       " 'website',\n",
       " 'are',\n",
       " 'a',\n",
       " 'good',\n",
       " 'introduction',\n",
       " 'to',\n",
       " 'the',\n",
       " 'school',\n",
       " ',',\n",
       " 'but',\n",
       " 'words',\n",
       " 'and',\n",
       " 'pictures',\n",
       " 'can',\n",
       " 'not',\n",
       " 'replace',\n",
       " 'experiencing',\n",
       " 'Indian',\n",
       " 'Springs',\n",
       " 'School',\n",
       " 'for',\n",
       " 'yourself',\n",
       " '.',\n",
       " 'I',\n",
       " 'invite',\n",
       " 'you',\n",
       " 'to',\n",
       " 'visit',\n",
       " 'campus',\n",
       " 'and',\n",
       " 'see',\n",
       " 'firsthand',\n",
       " 'what',\n",
       " 'makes',\n",
       " 'Indian',\n",
       " 'Springs',\n",
       " 'so',\n",
       " 'special',\n",
       " '.',\n",
       " 'You',\n",
       " 'will',\n",
       " 'no',\n",
       " 'doubt',\n",
       " 'be',\n",
       " 'captivated',\n",
       " 'by',\n",
       " 'the',\n",
       " 'beauty',\n",
       " 'of',\n",
       " 'our',\n",
       " 'campus',\n",
       " 'as',\n",
       " 'our',\n",
       " 'resident',\n",
       " 'swans',\n",
       " 'swim',\n",
       " 'across',\n",
       " 'the',\n",
       " 'lake',\n",
       " ',',\n",
       " 'but',\n",
       " 'more',\n",
       " 'importantly',\n",
       " ',',\n",
       " 'you',\n",
       " 'will',\n",
       " 'be',\n",
       " 'struck',\n",
       " 'by',\n",
       " 'the',\n",
       " 'sense',\n",
       " 'of',\n",
       " 'community',\n",
       " 'and',\n",
       " 'the',\n",
       " 'deep',\n",
       " 'and',\n",
       " 'abiding',\n",
       " 'relationships',\n",
       " 'that',\n",
       " 'we',\n",
       " 'enjoy',\n",
       " 'here',\n",
       " '.',\n",
       " 'We',\n",
       " 'look',\n",
       " 'forward',\n",
       " 'to',\n",
       " 'seeing',\n",
       " 'you',\n",
       " 'on',\n",
       " 'campus',\n",
       " 'soon',\n",
       " '.']"
      ]
     },
     "execution_count": 72,
     "metadata": {},
     "output_type": "execute_result"
    }
   ],
   "source": [
    "springs_tokens = word_tokenize(springs)\n",
    "springs_tokens"
   ]
  },
  {
   "cell_type": "code",
   "execution_count": 73,
   "id": "a3bb0e6f-9071-4ed9-9e37-b240084bd0f1",
   "metadata": {},
   "outputs": [
    {
     "data": {
      "text/plain": [
       "337"
      ]
     },
     "execution_count": 73,
     "metadata": {},
     "output_type": "execute_result"
    }
   ],
   "source": [
    "len(springs_tokens)"
   ]
  },
  {
   "cell_type": "code",
   "execution_count": 74,
   "id": "9bd20ca1-755a-4755-b28a-e1e68b99b3db",
   "metadata": {},
   "outputs": [],
   "source": [
    "from nltk.probability import FreqDist\n",
    "fdist = FreqDist()"
   ]
  },
  {
   "cell_type": "code",
   "execution_count": 75,
   "id": "d18e4841-cebc-496c-a6dd-e491d7f16c72",
   "metadata": {},
   "outputs": [],
   "source": [
    "for word in springs_tokens:\n",
    "    fdist[word.lower()]+=1"
   ]
  },
  {
   "cell_type": "code",
   "execution_count": 76,
   "id": "613b572f-0d87-44c9-aa97-a1b75ba871cf",
   "metadata": {},
   "outputs": [
    {
     "data": {
      "text/plain": [
       "FreqDist({',': 20, 'and': 17, 'the': 16, '.': 11, 'of': 9, 'to': 9, 'our': 8, 'indian': 8, 'springs': 8, 'you': 6, ...})"
      ]
     },
     "execution_count": 76,
     "metadata": {},
     "output_type": "execute_result"
    }
   ],
   "source": [
    "fdist"
   ]
  },
  {
   "cell_type": "code",
   "execution_count": 77,
   "id": "b6562914-4f0d-4a31-915d-a45b23a6a21f",
   "metadata": {},
   "outputs": [
    {
     "data": {
      "text/plain": [
       "5"
      ]
     },
     "execution_count": 77,
     "metadata": {},
     "output_type": "execute_result"
    }
   ],
   "source": [
    "fdist['students']"
   ]
  },
  {
   "cell_type": "code",
   "execution_count": 78,
   "id": "82302452-273b-45dd-8ef0-3e1765d7db6c",
   "metadata": {},
   "outputs": [
    {
     "data": {
      "text/plain": [
       "174"
      ]
     },
     "execution_count": 78,
     "metadata": {},
     "output_type": "execute_result"
    }
   ],
   "source": [
    "len(fdist)"
   ]
  },
  {
   "cell_type": "code",
   "execution_count": 79,
   "id": "16f74238-4e56-4c96-8ca0-acc5c792571e",
   "metadata": {},
   "outputs": [
    {
     "data": {
      "text/plain": [
       "[(',', 20),\n",
       " ('and', 17),\n",
       " ('the', 16),\n",
       " ('.', 11),\n",
       " ('of', 9),\n",
       " ('to', 9),\n",
       " ('our', 8),\n",
       " ('indian', 8),\n",
       " ('springs', 8),\n",
       " ('you', 6)]"
      ]
     },
     "execution_count": 79,
     "metadata": {},
     "output_type": "execute_result"
    }
   ],
   "source": [
    "top10 = fdist.most_common(10)\n",
    "top10"
   ]
  },
  {
   "cell_type": "code",
   "execution_count": 80,
   "id": "9fd17d41-53af-489d-a0fd-0feda889a84f",
   "metadata": {},
   "outputs": [],
   "source": [
    "from nltk.tokenize import blankline_tokenize"
   ]
  },
  {
   "cell_type": "code",
   "execution_count": 81,
   "id": "a497f7cc-1dc4-47c0-b455-846fb47a076a",
   "metadata": {},
   "outputs": [
    {
     "data": {
      "text/plain": [
       "['As you navigate the pages of our website, you will discover a school community where students are encouraged to lead and explore. The backdrop of an Indian Springs education is our 350-acre campus, unrivaled in its natural beauty and cutting edge facilities. Indian Springs’ students are inspired by a sense of place and nurtured by a world-class faculty whose passion for teaching and learning is surpassed only by their dedication to each individual student. Guided by our Motto, Learning through Living, Indian Springs has been educating ambitious and independent-thinking students from Birmingham, across the Southeast and United States, and around the world since 1952.',\n",
       " 'Since I first arrived in July, 2020, I have witnessed the transformational power of the Indian Springs experience. Countless alums and current students have recounted their stories to me, and although each is distinct, they all share similarities that are at the heart of the Indian Springs journey. Our school community encourages students to discover their interests, passions, and who they are; teaches them to be self-advocates and courageous leaders; and challenges them through active participation in self-governance to make a positive impact on the world. Our Core Values of Innovative Thinking, Intellectual Curiosity, Integrity, Inclusion, Infinite Respect, and Involvement are the foundation of an Indian Springs education',\n",
       " 'The pages within our website are a good introduction to the school, but words and pictures cannot replace experiencing Indian Springs School for yourself. I invite you to visit campus and see firsthand what makes Indian Springs so special. You will no doubt be captivated by the beauty of our campus as our resident swans swim across the lake, but more importantly, you will be struck by the sense of community and the deep and abiding relationships that we enjoy here.',\n",
       " 'We look forward to seeing you on campus soon.\\n']"
      ]
     },
     "execution_count": 81,
     "metadata": {},
     "output_type": "execute_result"
    }
   ],
   "source": [
    "springs_blank = blankline_tokenize(springs)\n",
    "springs_blank "
   ]
  },
  {
   "cell_type": "code",
   "execution_count": 82,
   "id": "93fe4325-ffec-4088-8f22-d8518101a621",
   "metadata": {},
   "outputs": [
    {
     "data": {
      "text/plain": [
       "'The pages within our website are a good introduction to the school, but words and pictures cannot replace experiencing Indian Springs School for yourself. I invite you to visit campus and see firsthand what makes Indian Springs so special. You will no doubt be captivated by the beauty of our campus as our resident swans swim across the lake, but more importantly, you will be struck by the sense of community and the deep and abiding relationships that we enjoy here.'"
      ]
     },
     "execution_count": 82,
     "metadata": {},
     "output_type": "execute_result"
    }
   ],
   "source": [
    "springs_blank[2]"
   ]
  },
  {
   "cell_type": "code",
   "execution_count": 83,
   "id": "c49bb46a-efe6-43e3-8aa0-ed55a50da317",
   "metadata": {},
   "outputs": [
    {
     "data": {
      "text/plain": [
       "['The',\n",
       " 'pages',\n",
       " 'within',\n",
       " 'our',\n",
       " 'website',\n",
       " 'are',\n",
       " 'a',\n",
       " 'good',\n",
       " 'introduction',\n",
       " 'to',\n",
       " 'the',\n",
       " 'school',\n",
       " ',',\n",
       " 'but',\n",
       " 'words',\n",
       " 'and',\n",
       " 'pictures',\n",
       " 'can',\n",
       " 'not',\n",
       " 'replace',\n",
       " 'experiencing',\n",
       " 'Indian',\n",
       " 'Springs',\n",
       " 'School',\n",
       " 'for',\n",
       " 'yourself',\n",
       " '.',\n",
       " 'I',\n",
       " 'invite',\n",
       " 'you',\n",
       " 'to',\n",
       " 'visit',\n",
       " 'campus',\n",
       " 'and',\n",
       " 'see',\n",
       " 'firsthand',\n",
       " 'what',\n",
       " 'makes',\n",
       " 'Indian',\n",
       " 'Springs',\n",
       " 'so',\n",
       " 'special',\n",
       " '.',\n",
       " 'You',\n",
       " 'will',\n",
       " 'no',\n",
       " 'doubt',\n",
       " 'be',\n",
       " 'captivated',\n",
       " 'by',\n",
       " 'the',\n",
       " 'beauty',\n",
       " 'of',\n",
       " 'our',\n",
       " 'campus',\n",
       " 'as',\n",
       " 'our',\n",
       " 'resident',\n",
       " 'swans',\n",
       " 'swim',\n",
       " 'across',\n",
       " 'the',\n",
       " 'lake',\n",
       " ',',\n",
       " 'but',\n",
       " 'more',\n",
       " 'importantly',\n",
       " ',',\n",
       " 'you',\n",
       " 'will',\n",
       " 'be',\n",
       " 'struck',\n",
       " 'by',\n",
       " 'the',\n",
       " 'sense',\n",
       " 'of',\n",
       " 'community',\n",
       " 'and',\n",
       " 'the',\n",
       " 'deep',\n",
       " 'and',\n",
       " 'abiding',\n",
       " 'relationships',\n",
       " 'that',\n",
       " 'we',\n",
       " 'enjoy',\n",
       " 'here',\n",
       " '.']"
      ]
     },
     "execution_count": 83,
     "metadata": {},
     "output_type": "execute_result"
    }
   ],
   "source": [
    "para2 = nltk.word_tokenize(springs_blank[2])\n",
    "para2"
   ]
  },
  {
   "cell_type": "code",
   "execution_count": 84,
   "id": "0e9339e7-a40b-4827-944f-f7292c774b80",
   "metadata": {},
   "outputs": [
    {
     "data": {
      "text/plain": [
       "88"
      ]
     },
     "execution_count": 84,
     "metadata": {},
     "output_type": "execute_result"
    }
   ],
   "source": [
    "len(para2)"
   ]
  },
  {
   "cell_type": "code",
   "execution_count": 85,
   "id": "1d79ddcf-0e72-496d-b7f3-a066b88e310e",
   "metadata": {},
   "outputs": [],
   "source": [
    "from nltk.stem import PorterStemmer\n",
    "pst= PorterStemmer()"
   ]
  },
  {
   "cell_type": "code",
   "execution_count": 86,
   "id": "04dbb1c9-fa71-4740-9e60-f5ce592748ba",
   "metadata": {},
   "outputs": [
    {
     "data": {
      "text/plain": [
       "'have'"
      ]
     },
     "execution_count": 86,
     "metadata": {},
     "output_type": "execute_result"
    }
   ],
   "source": [
    "pst.stem('having')"
   ]
  },
  {
   "cell_type": "code",
   "execution_count": 87,
   "id": "812a1ca0-ac08-412c-a34e-ec050fdd807a",
   "metadata": {},
   "outputs": [
    {
     "name": "stdout",
     "output_type": "stream",
     "text": [
      "community:commun\n",
      "and:and\n",
      "the:the\n",
      "and:and\n",
      "abiding:abid\n",
      "relationship:rel\n",
      "that:that\n"
     ]
    }
   ],
   "source": [
    "words_to_stem = ['community', 'and', 'the', 'and', 'abiding', 'relationship', 'that']\n",
    "from nltk.stem import LancasterStemmer\n",
    "lst = LancasterStemmer()\n",
    "for word in words_to_stem:\n",
    "    print(word + \":\" + lst.stem(word))"
   ]
  },
  {
   "cell_type": "code",
   "execution_count": 88,
   "id": "c7f14e73-b7f8-4748-a9f9-007b92b3ab12",
   "metadata": {},
   "outputs": [
    {
     "name": "stdout",
     "output_type": "stream",
     "text": [
      "community:communiti\n",
      "and:and\n",
      "the:the\n",
      "and:and\n",
      "abiding:abid\n",
      "relationship:relationship\n",
      "that:that\n"
     ]
    }
   ],
   "source": [
    "from nltk.stem import SnowballStemmer\n",
    "sbst = SnowballStemmer('english')\n",
    "for word in words_to_stem:\n",
    "    print(word + \":\" + sbst.stem(word))"
   ]
  },
  {
   "cell_type": "markdown",
   "id": "76678975-e940-4c4b-842d-d15520a85caa",
   "metadata": {},
   "source": [
    "## Lemmitization"
   ]
  },
  {
   "cell_type": "code",
   "execution_count": 89,
   "id": "49efa7ae-d2c9-48eb-bd99-72aa53467993",
   "metadata": {},
   "outputs": [],
   "source": [
    "from nltk.stem import wordnet\n",
    "from nltk.stem import WordNetLemmatizer\n",
    "word_lem = WordNetLemmatizer()"
   ]
  },
  {
   "cell_type": "code",
   "execution_count": 90,
   "id": "a5ecf3c9-bcf1-4e83-9b7c-09d6668e3c9b",
   "metadata": {},
   "outputs": [
    {
     "name": "stderr",
     "output_type": "stream",
     "text": [
      "[nltk_data] Downloading package wordnet to /home/olivia/nltk_data...\n",
      "[nltk_data]   Package wordnet is already up-to-date!\n",
      "[nltk_data] Downloading package omw-1.4 to /home/olivia/nltk_data...\n",
      "[nltk_data]   Package omw-1.4 is already up-to-date!\n"
     ]
    },
    {
     "data": {
      "text/plain": [
       "True"
      ]
     },
     "execution_count": 90,
     "metadata": {},
     "output_type": "execute_result"
    }
   ],
   "source": [
    "nltk.download('wordnet')\n",
    "nltk.download('omw-1.4')"
   ]
  },
  {
   "cell_type": "code",
   "execution_count": 91,
   "id": "a5ab069d-0012-4f76-9a88-2206dddfced3",
   "metadata": {},
   "outputs": [
    {
     "data": {
      "text/plain": [
       "'corpus'"
      ]
     },
     "execution_count": 91,
     "metadata": {},
     "output_type": "execute_result"
    }
   ],
   "source": [
    "word_lem.lemmatize('corpora')"
   ]
  },
  {
   "cell_type": "code",
   "execution_count": 92,
   "id": "28de6154-a972-447e-886b-95631c7f9078",
   "metadata": {},
   "outputs": [
    {
     "name": "stdout",
     "output_type": "stream",
     "text": [
      "community:community\n",
      "and:and\n",
      "the:the\n",
      "and:and\n",
      "abiding:abiding\n",
      "relationship:relationship\n",
      "that:that\n"
     ]
    }
   ],
   "source": [
    "for word in words_to_stem:\n",
    "    print(word + \":\" + word_lem.lemmatize(word))"
   ]
  },
  {
   "cell_type": "markdown",
   "id": "5ab10b00-cd30-495e-8d53-1d078bff4fe4",
   "metadata": {},
   "source": [
    "## Stop Words"
   ]
  },
  {
   "cell_type": "code",
   "execution_count": 93,
   "id": "1bf28365-54d6-4388-9dbb-ed3881797eef",
   "metadata": {},
   "outputs": [],
   "source": [
    "from nltk.corpus import stopwords"
   ]
  },
  {
   "cell_type": "code",
   "execution_count": 94,
   "id": "d9f4ba77-e887-4c62-8ece-9fb0c5552a58",
   "metadata": {},
   "outputs": [
    {
     "name": "stderr",
     "output_type": "stream",
     "text": [
      "[nltk_data] Downloading package stopwords to /home/olivia/nltk_data...\n",
      "[nltk_data]   Package stopwords is already up-to-date!\n"
     ]
    },
    {
     "data": {
      "text/plain": [
       "True"
      ]
     },
     "execution_count": 94,
     "metadata": {},
     "output_type": "execute_result"
    }
   ],
   "source": [
    "nltk.download('stopwords')"
   ]
  },
  {
   "cell_type": "code",
   "execution_count": 95,
   "id": "4cf64ff9-4a6f-4e11-9c3c-9309172509ed",
   "metadata": {},
   "outputs": [
    {
     "data": {
      "text/plain": [
       "179"
      ]
     },
     "execution_count": 95,
     "metadata": {},
     "output_type": "execute_result"
    }
   ],
   "source": [
    "stopwords.words('english')\n",
    "len(stopwords.words('english'))"
   ]
  },
  {
   "cell_type": "code",
   "execution_count": 96,
   "id": "b6615951-8941-47be-8d70-52dd9fe2212c",
   "metadata": {},
   "outputs": [],
   "source": [
    "import re\n",
    "punctuation = re.compile(r'[-.?!,:;()|0-9]')"
   ]
  },
  {
   "cell_type": "code",
   "execution_count": 97,
   "id": "1f2f11d0-45c5-405c-8522-05ebd14c975e",
   "metadata": {},
   "outputs": [],
   "source": [
    "post_punctuation = []\n",
    "for words in springs_tokens:\n",
    "    word = punctuation.sub('',words)\n",
    "    if len(word)>0:\n",
    "        post_punctuation.append(word)"
   ]
  },
  {
   "cell_type": "code",
   "execution_count": 98,
   "id": "28d453ea-ffda-4030-9bd3-334d403f7cc0",
   "metadata": {},
   "outputs": [
    {
     "data": {
      "text/plain": [
       "['As',\n",
       " 'you',\n",
       " 'navigate',\n",
       " 'the',\n",
       " 'pages',\n",
       " 'of',\n",
       " 'our',\n",
       " 'website',\n",
       " 'you',\n",
       " 'will',\n",
       " 'discover',\n",
       " 'a',\n",
       " 'school',\n",
       " 'community',\n",
       " 'where',\n",
       " 'students',\n",
       " 'are',\n",
       " 'encouraged',\n",
       " 'to',\n",
       " 'lead',\n",
       " 'and',\n",
       " 'explore',\n",
       " 'The',\n",
       " 'backdrop',\n",
       " 'of',\n",
       " 'an',\n",
       " 'Indian',\n",
       " 'Springs',\n",
       " 'education',\n",
       " 'is',\n",
       " 'our',\n",
       " 'acre',\n",
       " 'campus',\n",
       " 'unrivaled',\n",
       " 'in',\n",
       " 'its',\n",
       " 'natural',\n",
       " 'beauty',\n",
       " 'and',\n",
       " 'cutting',\n",
       " 'edge',\n",
       " 'facilities',\n",
       " 'Indian',\n",
       " 'Springs',\n",
       " '’',\n",
       " 'students',\n",
       " 'are',\n",
       " 'inspired',\n",
       " 'by',\n",
       " 'a',\n",
       " 'sense',\n",
       " 'of',\n",
       " 'place',\n",
       " 'and',\n",
       " 'nurtured',\n",
       " 'by',\n",
       " 'a',\n",
       " 'worldclass',\n",
       " 'faculty',\n",
       " 'whose',\n",
       " 'passion',\n",
       " 'for',\n",
       " 'teaching',\n",
       " 'and',\n",
       " 'learning',\n",
       " 'is',\n",
       " 'surpassed',\n",
       " 'only',\n",
       " 'by',\n",
       " 'their',\n",
       " 'dedication',\n",
       " 'to',\n",
       " 'each',\n",
       " 'individual',\n",
       " 'student',\n",
       " 'Guided',\n",
       " 'by',\n",
       " 'our',\n",
       " 'Motto',\n",
       " 'Learning',\n",
       " 'through',\n",
       " 'Living',\n",
       " 'Indian',\n",
       " 'Springs',\n",
       " 'has',\n",
       " 'been',\n",
       " 'educating',\n",
       " 'ambitious',\n",
       " 'and',\n",
       " 'independentthinking',\n",
       " 'students',\n",
       " 'from',\n",
       " 'Birmingham',\n",
       " 'across',\n",
       " 'the',\n",
       " 'Southeast',\n",
       " 'and',\n",
       " 'United',\n",
       " 'States',\n",
       " 'and',\n",
       " 'around',\n",
       " 'the',\n",
       " 'world',\n",
       " 'since',\n",
       " 'Since',\n",
       " 'I',\n",
       " 'first',\n",
       " 'arrived',\n",
       " 'in',\n",
       " 'July',\n",
       " 'I',\n",
       " 'have',\n",
       " 'witnessed',\n",
       " 'the',\n",
       " 'transformational',\n",
       " 'power',\n",
       " 'of',\n",
       " 'the',\n",
       " 'Indian',\n",
       " 'Springs',\n",
       " 'experience',\n",
       " 'Countless',\n",
       " 'alums',\n",
       " 'and',\n",
       " 'current',\n",
       " 'students',\n",
       " 'have',\n",
       " 'recounted',\n",
       " 'their',\n",
       " 'stories',\n",
       " 'to',\n",
       " 'me',\n",
       " 'and',\n",
       " 'although',\n",
       " 'each',\n",
       " 'is',\n",
       " 'distinct',\n",
       " 'they',\n",
       " 'all',\n",
       " 'share',\n",
       " 'similarities',\n",
       " 'that',\n",
       " 'are',\n",
       " 'at',\n",
       " 'the',\n",
       " 'heart',\n",
       " 'of',\n",
       " 'the',\n",
       " 'Indian',\n",
       " 'Springs',\n",
       " 'journey',\n",
       " 'Our',\n",
       " 'school',\n",
       " 'community',\n",
       " 'encourages',\n",
       " 'students',\n",
       " 'to',\n",
       " 'discover',\n",
       " 'their',\n",
       " 'interests',\n",
       " 'passions',\n",
       " 'and',\n",
       " 'who',\n",
       " 'they',\n",
       " 'are',\n",
       " 'teaches',\n",
       " 'them',\n",
       " 'to',\n",
       " 'be',\n",
       " 'selfadvocates',\n",
       " 'and',\n",
       " 'courageous',\n",
       " 'leaders',\n",
       " 'and',\n",
       " 'challenges',\n",
       " 'them',\n",
       " 'through',\n",
       " 'active',\n",
       " 'participation',\n",
       " 'in',\n",
       " 'selfgovernance',\n",
       " 'to',\n",
       " 'make',\n",
       " 'a',\n",
       " 'positive',\n",
       " 'impact',\n",
       " 'on',\n",
       " 'the',\n",
       " 'world',\n",
       " 'Our',\n",
       " 'Core',\n",
       " 'Values',\n",
       " 'of',\n",
       " 'Innovative',\n",
       " 'Thinking',\n",
       " 'Intellectual',\n",
       " 'Curiosity',\n",
       " 'Integrity',\n",
       " 'Inclusion',\n",
       " 'Infinite',\n",
       " 'Respect',\n",
       " 'and',\n",
       " 'Involvement',\n",
       " 'are',\n",
       " 'the',\n",
       " 'foundation',\n",
       " 'of',\n",
       " 'an',\n",
       " 'Indian',\n",
       " 'Springs',\n",
       " 'education',\n",
       " 'The',\n",
       " 'pages',\n",
       " 'within',\n",
       " 'our',\n",
       " 'website',\n",
       " 'are',\n",
       " 'a',\n",
       " 'good',\n",
       " 'introduction',\n",
       " 'to',\n",
       " 'the',\n",
       " 'school',\n",
       " 'but',\n",
       " 'words',\n",
       " 'and',\n",
       " 'pictures',\n",
       " 'can',\n",
       " 'not',\n",
       " 'replace',\n",
       " 'experiencing',\n",
       " 'Indian',\n",
       " 'Springs',\n",
       " 'School',\n",
       " 'for',\n",
       " 'yourself',\n",
       " 'I',\n",
       " 'invite',\n",
       " 'you',\n",
       " 'to',\n",
       " 'visit',\n",
       " 'campus',\n",
       " 'and',\n",
       " 'see',\n",
       " 'firsthand',\n",
       " 'what',\n",
       " 'makes',\n",
       " 'Indian',\n",
       " 'Springs',\n",
       " 'so',\n",
       " 'special',\n",
       " 'You',\n",
       " 'will',\n",
       " 'no',\n",
       " 'doubt',\n",
       " 'be',\n",
       " 'captivated',\n",
       " 'by',\n",
       " 'the',\n",
       " 'beauty',\n",
       " 'of',\n",
       " 'our',\n",
       " 'campus',\n",
       " 'as',\n",
       " 'our',\n",
       " 'resident',\n",
       " 'swans',\n",
       " 'swim',\n",
       " 'across',\n",
       " 'the',\n",
       " 'lake',\n",
       " 'but',\n",
       " 'more',\n",
       " 'importantly',\n",
       " 'you',\n",
       " 'will',\n",
       " 'be',\n",
       " 'struck',\n",
       " 'by',\n",
       " 'the',\n",
       " 'sense',\n",
       " 'of',\n",
       " 'community',\n",
       " 'and',\n",
       " 'the',\n",
       " 'deep',\n",
       " 'and',\n",
       " 'abiding',\n",
       " 'relationships',\n",
       " 'that',\n",
       " 'we',\n",
       " 'enjoy',\n",
       " 'here',\n",
       " 'We',\n",
       " 'look',\n",
       " 'forward',\n",
       " 'to',\n",
       " 'seeing',\n",
       " 'you',\n",
       " 'on',\n",
       " 'campus',\n",
       " 'soon']"
      ]
     },
     "execution_count": 98,
     "metadata": {},
     "output_type": "execute_result"
    }
   ],
   "source": [
    "post_punctuation"
   ]
  },
  {
   "cell_type": "markdown",
   "id": "8ee2d0c2-ca3e-4741-a594-a4b3deb89985",
   "metadata": {},
   "source": [
    "## Parts of Speech"
   ]
  },
  {
   "cell_type": "code",
   "execution_count": 99,
   "id": "c3fd6c8f-56c0-47eb-aa97-2b31f765ec6c",
   "metadata": {},
   "outputs": [],
   "source": [
    "sent = \"Tim is a natural when it comes to drawing\"\n",
    "sent_tokens = word_tokenize(sent)"
   ]
  },
  {
   "cell_type": "code",
   "execution_count": 100,
   "id": "1062ff7e-0cf6-42fa-88f2-c1f38948a68c",
   "metadata": {},
   "outputs": [
    {
     "data": {
      "text/plain": [
       "['Tim', 'is', 'a', 'natural', 'when', 'it', 'comes', 'to', 'drawing']"
      ]
     },
     "execution_count": 100,
     "metadata": {},
     "output_type": "execute_result"
    }
   ],
   "source": [
    "sent_tokens"
   ]
  },
  {
   "cell_type": "code",
   "execution_count": 101,
   "id": "7f2e09e6-080a-4a8d-9745-63a7fe7c727b",
   "metadata": {},
   "outputs": [
    {
     "name": "stderr",
     "output_type": "stream",
     "text": [
      "[nltk_data] Downloading package averaged_perceptron_tagger to\n",
      "[nltk_data]     /home/olivia/nltk_data...\n",
      "[nltk_data]   Package averaged_perceptron_tagger is already up-to-\n",
      "[nltk_data]       date!\n"
     ]
    },
    {
     "data": {
      "text/plain": [
       "True"
      ]
     },
     "execution_count": 101,
     "metadata": {},
     "output_type": "execute_result"
    }
   ],
   "source": [
    " nltk.download('averaged_perceptron_tagger')"
   ]
  },
  {
   "cell_type": "code",
   "execution_count": 102,
   "id": "34d89e47-b125-4dce-b0c0-0d69e6fce94d",
   "metadata": {},
   "outputs": [
    {
     "name": "stdout",
     "output_type": "stream",
     "text": [
      "[('Tim', 'NN')]\n",
      "[('is', 'VBZ')]\n",
      "[('a', 'DT')]\n",
      "[('natural', 'JJ')]\n",
      "[('when', 'WRB')]\n",
      "[('it', 'PRP')]\n",
      "[('comes', 'VBZ')]\n",
      "[('to', 'TO')]\n",
      "[('drawing', 'VBG')]\n"
     ]
    }
   ],
   "source": [
    "for token in sent_tokens:\n",
    "    print(nltk.pos_tag([token]))"
   ]
  },
  {
   "cell_type": "code",
   "execution_count": 103,
   "id": "d3950566-4fa7-4baa-992d-9e85bafcda8b",
   "metadata": {},
   "outputs": [],
   "source": [
    "sent_pos = nltk.pos_tag(sent_tokens)"
   ]
  },
  {
   "cell_type": "code",
   "execution_count": 104,
   "id": "4f18a884-4461-4912-9b03-b00bd5f8f3ba",
   "metadata": {},
   "outputs": [
    {
     "data": {
      "text/plain": [
       "[('Tim', 'NNP'),\n",
       " ('is', 'VBZ'),\n",
       " ('a', 'DT'),\n",
       " ('natural', 'JJ'),\n",
       " ('when', 'WRB'),\n",
       " ('it', 'PRP'),\n",
       " ('comes', 'VBZ'),\n",
       " ('to', 'TO'),\n",
       " ('drawing', 'VBG')]"
      ]
     },
     "execution_count": 104,
     "metadata": {},
     "output_type": "execute_result"
    }
   ],
   "source": [
    "sent_pos"
   ]
  },
  {
   "cell_type": "code",
   "execution_count": 105,
   "id": "e97b8f2e-8b38-47d5-80d2-ff1a1ee003bd",
   "metadata": {},
   "outputs": [
    {
     "data": {
      "text/plain": [
       "[('John', 'NNP'),\n",
       " ('is', 'VBZ'),\n",
       " ('eating', 'VBG'),\n",
       " ('a', 'DT'),\n",
       " ('delicious', 'JJ'),\n",
       " ('cake', 'NN')]"
      ]
     },
     "execution_count": 105,
     "metadata": {},
     "output_type": "execute_result"
    }
   ],
   "source": [
    "cake = \"John is eating a delicious cake\"\n",
    "nltk.pos_tag(word_tokenize(cake))"
   ]
  },
  {
   "cell_type": "markdown",
   "id": "f27aebc0-b5bc-4605-9701-3dbc4aea6b16",
   "metadata": {},
   "source": [
    "## Named Entity Recognition"
   ]
  },
  {
   "cell_type": "code",
   "execution_count": 106,
   "id": "90d7062e-0585-4f78-9269-dcabad883052",
   "metadata": {},
   "outputs": [],
   "source": [
    "from nltk import ne_chunk"
   ]
  },
  {
   "cell_type": "code",
   "execution_count": 107,
   "id": "3d5fe858-8730-4cee-a6d8-d38ad48216f8",
   "metadata": {},
   "outputs": [],
   "source": [
    "NE_sent = \"The US President stays in the White House\""
   ]
  },
  {
   "cell_type": "code",
   "execution_count": 108,
   "id": "0a71e232-b6bd-40b7-8491-e74b35c130c1",
   "metadata": {},
   "outputs": [],
   "source": [
    "NE_pos = nltk.pos_tag(word_tokenize(NE_sent))"
   ]
  },
  {
   "cell_type": "code",
   "execution_count": 109,
   "id": "46001ca0-24ff-4668-90dd-3c16e7ae5429",
   "metadata": {},
   "outputs": [
    {
     "name": "stdout",
     "output_type": "stream",
     "text": [
      "[('The', 'DT'), ('US', 'NNP'), ('President', 'NNP'), ('stays', 'VBZ'), ('in', 'IN'), ('the', 'DT'), ('White', 'NNP'), ('House', 'NNP')]\n"
     ]
    }
   ],
   "source": [
    "print(NE_pos)"
   ]
  },
  {
   "cell_type": "code",
   "execution_count": 110,
   "id": "60acfe73-3e79-4f63-806d-da9dd28ddd1a",
   "metadata": {},
   "outputs": [
    {
     "name": "stderr",
     "output_type": "stream",
     "text": [
      "[nltk_data] Downloading package maxent_ne_chunker to\n",
      "[nltk_data]     /home/olivia/nltk_data...\n",
      "[nltk_data]   Package maxent_ne_chunker is already up-to-date!\n",
      "[nltk_data] Downloading package words to /home/olivia/nltk_data...\n",
      "[nltk_data]   Package words is already up-to-date!\n"
     ]
    },
    {
     "data": {
      "text/plain": [
       "True"
      ]
     },
     "execution_count": 110,
     "metadata": {},
     "output_type": "execute_result"
    }
   ],
   "source": [
    "nltk.download('maxent_ne_chunker')\n",
    "nltk.download('words')"
   ]
  },
  {
   "cell_type": "code",
   "execution_count": 111,
   "id": "c2fb4bab-4e9f-47c3-8b8f-90321744fb7b",
   "metadata": {},
   "outputs": [
    {
     "name": "stdout",
     "output_type": "stream",
     "text": [
      "(S\n",
      "  The/DT\n",
      "  (ORGANIZATION US/NNP)\n",
      "  President/NNP\n",
      "  stays/VBZ\n",
      "  in/IN\n",
      "  the/DT\n",
      "  (FACILITY White/NNP House/NNP))\n"
     ]
    }
   ],
   "source": [
    "NE_NER = ne_chunk(NE_pos)\n",
    "print(NE_NER)"
   ]
  },
  {
   "cell_type": "markdown",
   "id": "9d524bed-6702-4d21-81f5-fbc76cfef72c",
   "metadata": {},
   "source": [
    "## Springs Website to NER"
   ]
  },
  {
   "cell_type": "code",
   "execution_count": 112,
   "id": "9e81d09a-1630-4dbc-92ec-3cd9bca978ff",
   "metadata": {},
   "outputs": [],
   "source": [
    "s_tokens = nltk.word_tokenize(springs)"
   ]
  },
  {
   "cell_type": "code",
   "execution_count": 113,
   "id": "8b746b86-c49c-48f6-9304-8bfb68611274",
   "metadata": {},
   "outputs": [],
   "source": [
    "s_no_punct = []\n",
    "for words in s_tokens:\n",
    "    word = punctuation.sub(\"\",words)\n",
    "    if len(word)>0:\n",
    "        s_no_punct.append(word)"
   ]
  },
  {
   "cell_type": "code",
   "execution_count": 114,
   "id": "6344c694-2aa5-4f0c-b834-bf9302e7d599",
   "metadata": {},
   "outputs": [],
   "source": [
    "s_no_stop = []\n",
    "stop_words = set(stopwords.words('english'))\n",
    "\n",
    "for w in s_no_punct:\n",
    "   if w not in stop_words:\n",
    "       s_no_stop.append(w)"
   ]
  },
  {
   "cell_type": "code",
   "execution_count": 115,
   "id": "8497bc8b-eec4-4484-9e46-f1b74c00c7a4",
   "metadata": {},
   "outputs": [
    {
     "name": "stdout",
     "output_type": "stream",
     "text": [
      "(S\n",
      "  As/IN\n",
      "  navigate/JJ\n",
      "  pages/NNS\n",
      "  website/VBP\n",
      "  discover/JJ\n",
      "  school/NN\n",
      "  community/NN\n",
      "  students/NNS\n",
      "  encouraged/VBD\n",
      "  lead/NN\n",
      "  explore/IN\n",
      "  The/DT\n",
      "  backdrop/NN\n",
      "  (GPE Indian/JJ)\n",
      "  (ORGANIZATION Springs/NNP)\n",
      "  education/NN\n",
      "  acre/NN\n",
      "  campus/NN\n",
      "  unrivaled/JJ\n",
      "  natural/JJ\n",
      "  beauty/NN\n",
      "  cutting/NN\n",
      "  edge/NN\n",
      "  facilities/NNS\n",
      "  (GPE Indian/JJ)\n",
      "  (ORGANIZATION Springs/NNP)\n",
      "  ’/NN\n",
      "  students/NNS\n",
      "  inspired/VBN\n",
      "  sense/NN\n",
      "  place/NN\n",
      "  nurtured/VBD\n",
      "  worldclass/NN\n",
      "  faculty/NN\n",
      "  whose/WP$\n",
      "  passion/NN\n",
      "  teaching/VBG\n",
      "  learning/VBG\n",
      "  surpassed/JJ\n",
      "  dedication/NN\n",
      "  individual/JJ\n",
      "  student/NN\n",
      "  (PERSON\n",
      "    Guided/NNP\n",
      "    Motto/NNP\n",
      "    Learning/NNP\n",
      "    Living/NNP\n",
      "    Indian/JJ\n",
      "    Springs/NNP)\n",
      "  educating/VBG\n",
      "  ambitious/JJ\n",
      "  independentthinking/VBG\n",
      "  students/NNS\n",
      "  Birmingham/NNP\n",
      "  across/IN\n",
      "  (LOCATION Southeast/NNP United/NNP)\n",
      "  (GPE States/NNPS)\n",
      "  around/IN\n",
      "  world/NN\n",
      "  since/IN\n",
      "  Since/IN\n",
      "  I/PRP\n",
      "  first/RB\n",
      "  arrived/VBD\n",
      "  July/NNP\n",
      "  I/PRP\n",
      "  witnessed/VBD\n",
      "  transformational/JJ\n",
      "  power/NN\n",
      "  (GPE Indian/JJ)\n",
      "  (ORGANIZATION Springs/NNP)\n",
      "  experience/NN\n",
      "  Countless/NNP\n",
      "  alums/NNS\n",
      "  current/JJ\n",
      "  students/NNS\n",
      "  recounted/VBD\n",
      "  stories/NNS\n",
      "  although/IN\n",
      "  distinct/JJ\n",
      "  share/NN\n",
      "  similarities/NNS\n",
      "  heart/NN\n",
      "  (GPE Indian/JJ)\n",
      "  (ORGANIZATION Springs/NNP)\n",
      "  journey/NN\n",
      "  Our/PRP$\n",
      "  school/NN\n",
      "  community/NN\n",
      "  encourages/VBZ\n",
      "  students/NNS\n",
      "  discover/NN\n",
      "  interests/NNS\n",
      "  passions/NNS\n",
      "  teaches/NNS\n",
      "  selfadvocates/NNS\n",
      "  courageous/JJ\n",
      "  leaders/NNS\n",
      "  challenges/NNS\n",
      "  active/JJ\n",
      "  participation/NN\n",
      "  selfgovernance/NN\n",
      "  make/VBP\n",
      "  positive/JJ\n",
      "  impact/NN\n",
      "  world/NN\n",
      "  Our/PRP$\n",
      "  (ORGANIZATION Core/NN Values/NNP Innovative/NNP)\n",
      "  Thinking/NNP\n",
      "  Intellectual/NNP\n",
      "  Curiosity/NNP\n",
      "  Integrity/NNP\n",
      "  Inclusion/NNP\n",
      "  Infinite/NNP\n",
      "  Respect/NNP\n",
      "  Involvement/NNP\n",
      "  foundation/NN\n",
      "  (GPE Indian/JJ)\n",
      "  (ORGANIZATION Springs/NNP)\n",
      "  education/NN\n",
      "  The/DT\n",
      "  pages/NNS\n",
      "  within/IN\n",
      "  website/RB\n",
      "  good/JJ\n",
      "  introduction/NN\n",
      "  school/NN\n",
      "  words/NNS\n",
      "  pictures/VBZ\n",
      "  replace/VB\n",
      "  experiencing/VBG\n",
      "  (GPE Indian/JJ)\n",
      "  (ORGANIZATION Springs/NNP)\n",
      "  School/NNP\n",
      "  I/PRP\n",
      "  invite/VBP\n",
      "  visit/JJ\n",
      "  campus/NN\n",
      "  see/VBP\n",
      "  firsthand/RB\n",
      "  makes/VBZ\n",
      "  (GPE Indian/JJ)\n",
      "  (ORGANIZATION Springs/NNP)\n",
      "  special/NN\n",
      "  You/PRP\n",
      "  doubt/VBP\n",
      "  captivated/VBN\n",
      "  beauty/NN\n",
      "  campus/NN\n",
      "  resident/NN\n",
      "  swans/NNS\n",
      "  swim/VBP\n",
      "  across/IN\n",
      "  lake/NN\n",
      "  importantly/RB\n",
      "  struck/VBD\n",
      "  sense/NN\n",
      "  community/NN\n",
      "  deep/VBP\n",
      "  abiding/VBG\n",
      "  relationships/NNS\n",
      "  enjoy/IN\n",
      "  We/PRP\n",
      "  look/VBP\n",
      "  forward/RB\n",
      "  seeing/VBG\n",
      "  campus/NN\n",
      "  soon/RB)\n"
     ]
    }
   ],
   "source": [
    "s_pos = nltk.pos_tag(s_no_stop)\n",
    "s_pos\n",
    "s_ne = ne_chunk(s_pos)\n",
    "print(s_ne)"
   ]
  },
  {
   "cell_type": "markdown",
   "id": "32395e45-79d8-439c-97bb-3f099e3c1519",
   "metadata": {},
   "source": [
    "## Chunking"
   ]
  },
  {
   "cell_type": "code",
   "execution_count": 116,
   "id": "d1b63dc0-4a0e-42af-af1f-1542eea67a86",
   "metadata": {},
   "outputs": [
    {
     "data": {
      "text/plain": [
       "[('The', 'DT'),\n",
       " ('big', 'JJ'),\n",
       " ('cat', 'NN'),\n",
       " ('ate', 'VBD'),\n",
       " ('the', 'DT'),\n",
       " ('little', 'JJ'),\n",
       " ('mouse', 'NN'),\n",
       " ('that', 'WDT'),\n",
       " ('was', 'VBD'),\n",
       " ('after', 'IN'),\n",
       " ('the', 'DT'),\n",
       " ('fresh', 'JJ'),\n",
       " ('cheese', 'NN')]"
      ]
     },
     "execution_count": 116,
     "metadata": {},
     "output_type": "execute_result"
    }
   ],
   "source": [
    "new = \"The big cat ate the little mouse that was after the fresh cheese\"\n",
    "new_pos = nltk.pos_tag(nltk.word_tokenize(new))\n",
    "new_pos"
   ]
  },
  {
   "cell_type": "code",
   "execution_count": 122,
   "id": "09c2aa5a-2e0a-4b73-8a26-9e4d7bc2ecd1",
   "metadata": {},
   "outputs": [],
   "source": [
    "grammar = r\"\"\"\n",
    "    NP: {<.*>*}             # start by chunking everything\n",
    "        }<[\\.VI].*>+{       # strip any verbs, prepositions or periods\n",
    "        <.*>}{<DT>          # separate on determiners\n",
    "    PP: {<IN><NP>}          # PP = preposition + noun phrase\n",
    "    VP: {<VB.*><NP|PP>*}    # VP = verb words + NPs and PPs\n",
    "    \"\"\""
   ]
  },
  {
   "cell_type": "code",
   "execution_count": 126,
   "id": "89bf1d25-47e2-4008-aa34-f65855187186",
   "metadata": {},
   "outputs": [],
   "source": [
    "chunk_parser = nltk.RegexpParser(grammar)"
   ]
  },
  {
   "cell_type": "code",
   "execution_count": 127,
   "id": "bd0a4237-eab1-42bd-8a00-45ea5d453c8c",
   "metadata": {},
   "outputs": [
    {
     "data": {
      "image/svg+xml": [
       "<svg baseProfile=\"full\" height=\"264px\" preserveAspectRatio=\"xMidYMid meet\" style=\"font-family: times, serif; font-weight:normal; font-style: normal; font-size: 16px;\" version=\"1.1\" viewBox=\"0,0,624.0,264.0\" width=\"624px\" xmlns=\"http://www.w3.org/2000/svg\" xmlns:ev=\"http://www.w3.org/2001/xml-events\" xmlns:xlink=\"http://www.w3.org/1999/xlink\"><defs /><svg width=\"100%\" x=\"0\" y=\"0em\"><defs /><text text-anchor=\"middle\" x=\"50%\" y=\"1em\">S</text></svg><svg width=\"19.2308%\" x=\"0%\" y=\"3em\"><defs /><svg width=\"100%\" x=\"0\" y=\"0em\"><defs /><text text-anchor=\"middle\" x=\"50%\" y=\"1em\">NP</text></svg><svg width=\"33.3333%\" x=\"0%\" y=\"3em\"><defs /><svg width=\"100%\" x=\"0\" y=\"0em\"><defs /><text text-anchor=\"middle\" x=\"50%\" y=\"1em\">The</text></svg><svg width=\"100%\" x=\"0%\" y=\"3em\"><defs /><svg width=\"100%\" x=\"0\" y=\"0em\"><defs /><text text-anchor=\"middle\" x=\"50%\" y=\"1em\">DT</text></svg></svg><line stroke=\"black\" x1=\"50%\" x2=\"50%\" y1=\"1.2em\" y2=\"3em\" /></svg><line stroke=\"black\" x1=\"50%\" x2=\"16.6667%\" y1=\"1.2em\" y2=\"3em\" /><svg width=\"33.3333%\" x=\"33.3333%\" y=\"3em\"><defs /><svg width=\"100%\" x=\"0\" y=\"0em\"><defs /><text text-anchor=\"middle\" x=\"50%\" y=\"1em\">big</text></svg><svg width=\"100%\" x=\"0%\" y=\"3em\"><defs /><svg width=\"100%\" x=\"0\" y=\"0em\"><defs /><text text-anchor=\"middle\" x=\"50%\" y=\"1em\">JJ</text></svg></svg><line stroke=\"black\" x1=\"50%\" x2=\"50%\" y1=\"1.2em\" y2=\"3em\" /></svg><line stroke=\"black\" x1=\"50%\" x2=\"50%\" y1=\"1.2em\" y2=\"3em\" /><svg width=\"33.3333%\" x=\"66.6667%\" y=\"3em\"><defs /><svg width=\"100%\" x=\"0\" y=\"0em\"><defs /><text text-anchor=\"middle\" x=\"50%\" y=\"1em\">cat</text></svg><svg width=\"100%\" x=\"0%\" y=\"3em\"><defs /><svg width=\"100%\" x=\"0\" y=\"0em\"><defs /><text text-anchor=\"middle\" x=\"50%\" y=\"1em\">NN</text></svg></svg><line stroke=\"black\" x1=\"50%\" x2=\"50%\" y1=\"1.2em\" y2=\"3em\" /></svg><line stroke=\"black\" x1=\"50%\" x2=\"83.3333%\" y1=\"1.2em\" y2=\"3em\" /></svg><line stroke=\"black\" x1=\"50%\" x2=\"9.61538%\" y1=\"1.2em\" y2=\"3em\" /><svg width=\"39.7436%\" x=\"19.2308%\" y=\"3em\"><defs /><svg width=\"100%\" x=\"0\" y=\"0em\"><defs /><text text-anchor=\"middle\" x=\"50%\" y=\"1em\">VP</text></svg><svg width=\"16.129%\" x=\"0%\" y=\"3em\"><defs /><svg width=\"100%\" x=\"0\" y=\"0em\"><defs /><text text-anchor=\"middle\" x=\"50%\" y=\"1em\">ate</text></svg><svg width=\"100%\" x=\"0%\" y=\"3em\"><defs /><svg width=\"100%\" x=\"0\" y=\"0em\"><defs /><text text-anchor=\"middle\" x=\"50%\" y=\"1em\">VBD</text></svg></svg><line stroke=\"black\" x1=\"50%\" x2=\"50%\" y1=\"1.2em\" y2=\"3em\" /></svg><line stroke=\"black\" x1=\"50%\" x2=\"8.06452%\" y1=\"1.2em\" y2=\"3em\" /><svg width=\"83.871%\" x=\"16.129%\" y=\"3em\"><defs /><svg width=\"100%\" x=\"0\" y=\"0em\"><defs /><text text-anchor=\"middle\" x=\"50%\" y=\"1em\">NP</text></svg><svg width=\"19.2308%\" x=\"0%\" y=\"3em\"><defs /><svg width=\"100%\" x=\"0\" y=\"0em\"><defs /><text text-anchor=\"middle\" x=\"50%\" y=\"1em\">the</text></svg><svg width=\"100%\" x=\"0%\" y=\"3em\"><defs /><svg width=\"100%\" x=\"0\" y=\"0em\"><defs /><text text-anchor=\"middle\" x=\"50%\" y=\"1em\">DT</text></svg></svg><line stroke=\"black\" x1=\"50%\" x2=\"50%\" y1=\"1.2em\" y2=\"3em\" /></svg><line stroke=\"black\" x1=\"50%\" x2=\"9.61538%\" y1=\"1.2em\" y2=\"3em\" /><svg width=\"30.7692%\" x=\"19.2308%\" y=\"3em\"><defs /><svg width=\"100%\" x=\"0\" y=\"0em\"><defs /><text text-anchor=\"middle\" x=\"50%\" y=\"1em\">little</text></svg><svg width=\"100%\" x=\"0%\" y=\"3em\"><defs /><svg width=\"100%\" x=\"0\" y=\"0em\"><defs /><text text-anchor=\"middle\" x=\"50%\" y=\"1em\">JJ</text></svg></svg><line stroke=\"black\" x1=\"50%\" x2=\"50%\" y1=\"1.2em\" y2=\"3em\" /></svg><line stroke=\"black\" x1=\"50%\" x2=\"34.6154%\" y1=\"1.2em\" y2=\"3em\" /><svg width=\"26.9231%\" x=\"50%\" y=\"3em\"><defs /><svg width=\"100%\" x=\"0\" y=\"0em\"><defs /><text text-anchor=\"middle\" x=\"50%\" y=\"1em\">mouse</text></svg><svg width=\"100%\" x=\"0%\" y=\"3em\"><defs /><svg width=\"100%\" x=\"0\" y=\"0em\"><defs /><text text-anchor=\"middle\" x=\"50%\" y=\"1em\">NN</text></svg></svg><line stroke=\"black\" x1=\"50%\" x2=\"50%\" y1=\"1.2em\" y2=\"3em\" /></svg><line stroke=\"black\" x1=\"50%\" x2=\"63.4615%\" y1=\"1.2em\" y2=\"3em\" /><svg width=\"23.0769%\" x=\"76.9231%\" y=\"3em\"><defs /><svg width=\"100%\" x=\"0\" y=\"0em\"><defs /><text text-anchor=\"middle\" x=\"50%\" y=\"1em\">that</text></svg><svg width=\"100%\" x=\"0%\" y=\"3em\"><defs /><svg width=\"100%\" x=\"0\" y=\"0em\"><defs /><text text-anchor=\"middle\" x=\"50%\" y=\"1em\">WDT</text></svg></svg><line stroke=\"black\" x1=\"50%\" x2=\"50%\" y1=\"1.2em\" y2=\"3em\" /></svg><line stroke=\"black\" x1=\"50%\" x2=\"88.4615%\" y1=\"1.2em\" y2=\"3em\" /></svg><line stroke=\"black\" x1=\"50%\" x2=\"58.0645%\" y1=\"1.2em\" y2=\"3em\" /></svg><line stroke=\"black\" x1=\"50%\" x2=\"39.1026%\" y1=\"1.2em\" y2=\"3em\" /><svg width=\"41.0256%\" x=\"58.9744%\" y=\"3em\"><defs /><svg width=\"100%\" x=\"0\" y=\"0em\"><defs /><text text-anchor=\"middle\" x=\"50%\" y=\"1em\">VP</text></svg><svg width=\"15.625%\" x=\"0%\" y=\"3em\"><defs /><svg width=\"100%\" x=\"0\" y=\"0em\"><defs /><text text-anchor=\"middle\" x=\"50%\" y=\"1em\">was</text></svg><svg width=\"100%\" x=\"0%\" y=\"3em\"><defs /><svg width=\"100%\" x=\"0\" y=\"0em\"><defs /><text text-anchor=\"middle\" x=\"50%\" y=\"1em\">VBD</text></svg></svg><line stroke=\"black\" x1=\"50%\" x2=\"50%\" y1=\"1.2em\" y2=\"3em\" /></svg><line stroke=\"black\" x1=\"50%\" x2=\"7.8125%\" y1=\"1.2em\" y2=\"3em\" /><svg width=\"84.375%\" x=\"15.625%\" y=\"3em\"><defs /><svg width=\"100%\" x=\"0\" y=\"0em\"><defs /><text text-anchor=\"middle\" x=\"50%\" y=\"1em\">PP</text></svg><svg width=\"25.9259%\" x=\"0%\" y=\"3em\"><defs /><svg width=\"100%\" x=\"0\" y=\"0em\"><defs /><text text-anchor=\"middle\" x=\"50%\" y=\"1em\">after</text></svg><svg width=\"100%\" x=\"0%\" y=\"3em\"><defs /><svg width=\"100%\" x=\"0\" y=\"0em\"><defs /><text text-anchor=\"middle\" x=\"50%\" y=\"1em\">IN</text></svg></svg><line stroke=\"black\" x1=\"50%\" x2=\"50%\" y1=\"1.2em\" y2=\"3em\" /></svg><line stroke=\"black\" x1=\"50%\" x2=\"12.963%\" y1=\"1.2em\" y2=\"3em\" /><svg width=\"74.0741%\" x=\"25.9259%\" y=\"3em\"><defs /><svg width=\"100%\" x=\"0\" y=\"0em\"><defs /><text text-anchor=\"middle\" x=\"50%\" y=\"1em\">NP</text></svg><svg width=\"25%\" x=\"0%\" y=\"3em\"><defs /><svg width=\"100%\" x=\"0\" y=\"0em\"><defs /><text text-anchor=\"middle\" x=\"50%\" y=\"1em\">the</text></svg><svg width=\"100%\" x=\"0%\" y=\"3em\"><defs /><svg width=\"100%\" x=\"0\" y=\"0em\"><defs /><text text-anchor=\"middle\" x=\"50%\" y=\"1em\">DT</text></svg></svg><line stroke=\"black\" x1=\"50%\" x2=\"50%\" y1=\"1.2em\" y2=\"3em\" /></svg><line stroke=\"black\" x1=\"50%\" x2=\"12.5%\" y1=\"1.2em\" y2=\"3em\" /><svg width=\"35%\" x=\"25%\" y=\"3em\"><defs /><svg width=\"100%\" x=\"0\" y=\"0em\"><defs /><text text-anchor=\"middle\" x=\"50%\" y=\"1em\">fresh</text></svg><svg width=\"100%\" x=\"0%\" y=\"3em\"><defs /><svg width=\"100%\" x=\"0\" y=\"0em\"><defs /><text text-anchor=\"middle\" x=\"50%\" y=\"1em\">JJ</text></svg></svg><line stroke=\"black\" x1=\"50%\" x2=\"50%\" y1=\"1.2em\" y2=\"3em\" /></svg><line stroke=\"black\" x1=\"50%\" x2=\"42.5%\" y1=\"1.2em\" y2=\"3em\" /><svg width=\"40%\" x=\"60%\" y=\"3em\"><defs /><svg width=\"100%\" x=\"0\" y=\"0em\"><defs /><text text-anchor=\"middle\" x=\"50%\" y=\"1em\">cheese</text></svg><svg width=\"100%\" x=\"0%\" y=\"3em\"><defs /><svg width=\"100%\" x=\"0\" y=\"0em\"><defs /><text text-anchor=\"middle\" x=\"50%\" y=\"1em\">NN</text></svg></svg><line stroke=\"black\" x1=\"50%\" x2=\"50%\" y1=\"1.2em\" y2=\"3em\" /></svg><line stroke=\"black\" x1=\"50%\" x2=\"80%\" y1=\"1.2em\" y2=\"3em\" /></svg><line stroke=\"black\" x1=\"50%\" x2=\"62.963%\" y1=\"1.2em\" y2=\"3em\" /></svg><line stroke=\"black\" x1=\"50%\" x2=\"57.8125%\" y1=\"1.2em\" y2=\"3em\" /></svg><line stroke=\"black\" x1=\"50%\" x2=\"79.4872%\" y1=\"1.2em\" y2=\"3em\" /></svg>"
      ],
      "text/plain": [
       "Tree('S', [Tree('NP', [('The', 'DT'), ('big', 'JJ'), ('cat', 'NN')]), Tree('VP', [('ate', 'VBD'), Tree('NP', [('the', 'DT'), ('little', 'JJ'), ('mouse', 'NN'), ('that', 'WDT')])]), Tree('VP', [('was', 'VBD'), Tree('PP', [('after', 'IN'), Tree('NP', [('the', 'DT'), ('fresh', 'JJ'), ('cheese', 'NN')])])])])"
      ]
     },
     "execution_count": 127,
     "metadata": {},
     "output_type": "execute_result"
    }
   ],
   "source": [
    "chunk_result = chunk_parser.parse(new_pos)\n",
    "chunk_result"
   ]
  },
  {
   "cell_type": "code",
   "execution_count": null,
   "id": "9349ffbc-ed6d-4f5d-afa1-bc2188c2f1ef",
   "metadata": {},
   "outputs": [],
   "source": []
  }
 ],
 "metadata": {
  "kernelspec": {
   "display_name": "Python 3 (ipykernel)",
   "language": "python",
   "name": "python3"
  },
  "language_info": {
   "codemirror_mode": {
    "name": "ipython",
    "version": 3
   },
   "file_extension": ".py",
   "mimetype": "text/x-python",
   "name": "python",
   "nbconvert_exporter": "python",
   "pygments_lexer": "ipython3",
   "version": "3.8.10"
  }
 },
 "nbformat": 4,
 "nbformat_minor": 5
}
