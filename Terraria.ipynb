{
 "cells": [
  {
   "cell_type": "markdown",
   "id": "30647892-b37e-4e7f-ae54-d5c85c7e8bc6",
   "metadata": {},
   "source": [
    "# Terraria"
   ]
  },
  {
   "cell_type": "code",
   "execution_count": 39,
   "id": "1fc56d45-ba37-4989-bd02-b8aa518d532c",
   "metadata": {},
   "outputs": [],
   "source": [
    "import nltk"
   ]
  },
  {
   "cell_type": "code",
   "execution_count": 40,
   "id": "0d0932cb-b2c6-4351-84e4-cf19dcbb6cdc",
   "metadata": {},
   "outputs": [],
   "source": [
    "import pandas as pd\n",
    "from nltk.sentiment.vader import SentimentIntensityAnalyzer"
   ]
  },
  {
   "cell_type": "code",
   "execution_count": 41,
   "id": "d6df41d1-2190-4bdf-8112-d4dff18a06d1",
   "metadata": {},
   "outputs": [],
   "source": [
    "data = pd.read_csv('/usr/local/share/data/terraria-dataset.csv')"
   ]
  },
  {
   "cell_type": "code",
   "execution_count": 42,
   "id": "64b40d99-6ff8-4b31-b820-7adf1dc354c2",
   "metadata": {},
   "outputs": [
    {
     "data": {
      "text/html": [
       "<div>\n",
       "<style scoped>\n",
       "    .dataframe tbody tr th:only-of-type {\n",
       "        vertical-align: middle;\n",
       "    }\n",
       "\n",
       "    .dataframe tbody tr th {\n",
       "        vertical-align: top;\n",
       "    }\n",
       "\n",
       "    .dataframe thead th {\n",
       "        text-align: right;\n",
       "    }\n",
       "</style>\n",
       "<table border=\"1\" class=\"dataframe\">\n",
       "  <thead>\n",
       "    <tr style=\"text-align: right;\">\n",
       "      <th></th>\n",
       "      <th>id</th>\n",
       "      <th>app_id</th>\n",
       "      <th>app_name</th>\n",
       "      <th>review_text</th>\n",
       "      <th>review_score</th>\n",
       "      <th>review_votes</th>\n",
       "    </tr>\n",
       "  </thead>\n",
       "  <tbody>\n",
       "    <tr>\n",
       "      <th>0</th>\n",
       "      <td>68092</td>\n",
       "      <td>105600</td>\n",
       "      <td>Terraria</td>\n",
       "      <td>You can be a werewolf riding a unicorn while s...</td>\n",
       "      <td>1</td>\n",
       "      <td>0</td>\n",
       "    </tr>\n",
       "    <tr>\n",
       "      <th>1</th>\n",
       "      <td>68093</td>\n",
       "      <td>105600</td>\n",
       "      <td>Terraria</td>\n",
       "      <td>You should by 8 copies of this game and go aro...</td>\n",
       "      <td>1</td>\n",
       "      <td>0</td>\n",
       "    </tr>\n",
       "    <tr>\n",
       "      <th>2</th>\n",
       "      <td>68094</td>\n",
       "      <td>105600</td>\n",
       "      <td>Terraria</td>\n",
       "      <td>Introduction</td>\n",
       "      <td>1</td>\n",
       "      <td>1</td>\n",
       "    </tr>\n",
       "    <tr>\n",
       "      <th>3</th>\n",
       "      <td>68095</td>\n",
       "      <td>105600</td>\n",
       "      <td>Terraria</td>\n",
       "      <td>If you have friends, this is a great game to p...</td>\n",
       "      <td>1</td>\n",
       "      <td>1</td>\n",
       "    </tr>\n",
       "    <tr>\n",
       "      <th>4</th>\n",
       "      <td>68096</td>\n",
       "      <td>105600</td>\n",
       "      <td>Terraria</td>\n",
       "      <td>A Generic Comparison of Terraria versus Minecr...</td>\n",
       "      <td>1</td>\n",
       "      <td>0</td>\n",
       "    </tr>\n",
       "  </tbody>\n",
       "</table>\n",
       "</div>"
      ],
      "text/plain": [
       "      id  app_id  app_name                                        review_text  \\\n",
       "0  68092  105600  Terraria  You can be a werewolf riding a unicorn while s...   \n",
       "1  68093  105600  Terraria  You should by 8 copies of this game and go aro...   \n",
       "2  68094  105600  Terraria                                       Introduction   \n",
       "3  68095  105600  Terraria  If you have friends, this is a great game to p...   \n",
       "4  68096  105600  Terraria  A Generic Comparison of Terraria versus Minecr...   \n",
       "\n",
       "   review_score  review_votes  \n",
       "0             1             0  \n",
       "1             1             0  \n",
       "2             1             1  \n",
       "3             1             1  \n",
       "4             1             0  "
      ]
     },
     "execution_count": 42,
     "metadata": {},
     "output_type": "execute_result"
    }
   ],
   "source": [
    "data.head(5)"
   ]
  },
  {
   "cell_type": "code",
   "execution_count": 43,
   "id": "cd650d79-3dcb-402c-866b-7adac5b793bd",
   "metadata": {},
   "outputs": [
    {
     "data": {
      "text/plain": [
       "(84828, 6)"
      ]
     },
     "execution_count": 43,
     "metadata": {},
     "output_type": "execute_result"
    }
   ],
   "source": [
    "data.shape"
   ]
  },
  {
   "cell_type": "code",
   "execution_count": 44,
   "id": "ec125099-b0b4-45c6-90d8-826be35adaee",
   "metadata": {},
   "outputs": [
    {
     "name": "stdout",
     "output_type": "stream",
     "text": [
      "             id  app_id  review_text  review_score  review_votes\n",
      "app_name                                                        \n",
      "Terraria  84828   84828        84702         84828         84828\n"
     ]
    }
   ],
   "source": [
    "s = data.groupby('app_name').count()\n",
    "sorted_df = s.sort_values(by='review_text')\n",
    "print(sorted_df)"
   ]
  },
  {
   "cell_type": "code",
   "execution_count": 45,
   "id": "1fb88484-0f23-4478-b689-6ffefbaf092e",
   "metadata": {},
   "outputs": [
    {
     "data": {
      "text/plain": [
       "<bound method DataFrame.info of            id  app_id  app_name  \\\n",
       "0       68092  105600  Terraria   \n",
       "1       68093  105600  Terraria   \n",
       "2       68094  105600  Terraria   \n",
       "3       68095  105600  Terraria   \n",
       "4       68096  105600  Terraria   \n",
       "...       ...     ...       ...   \n",
       "84823  152915  105600  Terraria   \n",
       "84824  152916  105600  Terraria   \n",
       "84825  152917  105600  Terraria   \n",
       "84826  152918  105600  Terraria   \n",
       "84827  152919  105600  Terraria   \n",
       "\n",
       "                                             review_text  review_score  \\\n",
       "0      You can be a werewolf riding a unicorn while s...             1   \n",
       "1      You should by 8 copies of this game and go aro...             1   \n",
       "2                                           Introduction             1   \n",
       "3      If you have friends, this is a great game to p...             1   \n",
       "4      A Generic Comparison of Terraria versus Minecr...             1   \n",
       "...                                                  ...           ...   \n",
       "84823                           Great fun love this game             1   \n",
       "84824                                    totally awesome             1   \n",
       "84825  This Game Is A Game Where You Can Start A Newb...             1   \n",
       "84826  By far, one of the greatest games i've played yet             1   \n",
       "84827  This game is awesome. 10 Eye of cthulhu of 10 ...             1   \n",
       "\n",
       "       review_votes  \n",
       "0                 0  \n",
       "1                 0  \n",
       "2                 1  \n",
       "3                 1  \n",
       "4                 0  \n",
       "...             ...  \n",
       "84823             0  \n",
       "84824             0  \n",
       "84825             0  \n",
       "84826             0  \n",
       "84827             0  \n",
       "\n",
       "[84828 rows x 6 columns]>"
      ]
     },
     "execution_count": 45,
     "metadata": {},
     "output_type": "execute_result"
    }
   ],
   "source": [
    "data.info"
   ]
  },
  {
   "cell_type": "code",
   "execution_count": null,
   "id": "66df5999-ec3e-4418-8600-e2661da71185",
   "metadata": {},
   "outputs": [],
   "source": [
    "data = data.astype(str)"
   ]
  },
  {
   "cell_type": "code",
   "execution_count": null,
   "id": "8851be42-025a-4d78-b326-8c6b60b2d9ae",
   "metadata": {},
   "outputs": [],
   "source": [
    "analyzer = SentimentIntensityAnalyzer()"
   ]
  },
  {
   "cell_type": "code",
   "execution_count": null,
   "id": "4cc13b1d-7449-4042-b6b7-8d91a04868c0",
   "metadata": {},
   "outputs": [],
   "source": [
    "body = data.review_text\n",
    "neg, neu, pos, compound = [],[],[],[]\n",
    "for review in body:\n",
    "    res = analyzer.polarity_scores(review)\n",
    "    neg.append(res['neg'])\n",
    "    neu.append(res['neu'])\n",
    "    pos.append(res['pos'])\n",
    "    compound.append(res['compound'])"
   ]
  },
  {
   "cell_type": "code",
   "execution_count": null,
   "id": "5f379a60-5074-48b2-8d50-c32d343f7742",
   "metadata": {},
   "outputs": [],
   "source": [
    "data['Negative'] = neg\n",
    "data['Neutral'] = neu\n",
    "data['Positive'] = pos\n",
    "data['Compound'] = compound\n",
    "data.head(5)"
   ]
  },
  {
   "cell_type": "code",
   "execution_count": 79,
   "id": "ba5bb84d-f628-46eb-8b7d-3451dd0f9656",
   "metadata": {},
   "outputs": [],
   "source": [
    "pos_cutoff= .66\n",
    "neg_cutoff = -0.25"
   ]
  },
  {
   "cell_type": "code",
   "execution_count": 81,
   "id": "9b1bf60f-9642-4461-805d-3f317299c746",
   "metadata": {},
   "outputs": [],
   "source": [
    "tags = []\n",
    "for i in range(len(data)):\n",
    "    if(compound[i] > pos_cutoff):\n",
    "        tags.append('Positive')\n",
    "    elif(compound[i] > neg_cutoff):\n",
    "        tags.append('Neutral')\n",
    "    else:\n",
    "        tags.append('Negative')"
   ]
  },
  {
   "cell_type": "code",
   "execution_count": 82,
   "id": "e650893c-cb03-4534-8b8d-6affceb82127",
   "metadata": {},
   "outputs": [],
   "source": [
    "data['sentiment_pn_compound'] = tags"
   ]
  },
  {
   "cell_type": "code",
   "execution_count": 83,
   "id": "cfed589b-31d7-4bb0-8811-cc3400262f64",
   "metadata": {},
   "outputs": [
    {
     "data": {
      "text/html": [
       "<div>\n",
       "<style scoped>\n",
       "    .dataframe tbody tr th:only-of-type {\n",
       "        vertical-align: middle;\n",
       "    }\n",
       "\n",
       "    .dataframe tbody tr th {\n",
       "        vertical-align: top;\n",
       "    }\n",
       "\n",
       "    .dataframe thead th {\n",
       "        text-align: right;\n",
       "    }\n",
       "</style>\n",
       "<table border=\"1\" class=\"dataframe\">\n",
       "  <thead>\n",
       "    <tr style=\"text-align: right;\">\n",
       "      <th></th>\n",
       "      <th>id</th>\n",
       "      <th>app_id</th>\n",
       "      <th>app_name</th>\n",
       "      <th>review_text</th>\n",
       "      <th>review_score</th>\n",
       "      <th>review_votes</th>\n",
       "      <th>Negative</th>\n",
       "      <th>Neutral</th>\n",
       "      <th>Positive</th>\n",
       "      <th>Compound</th>\n",
       "      <th>sentiment_pn_max</th>\n",
       "      <th>sentiment_pn_compound</th>\n",
       "    </tr>\n",
       "  </thead>\n",
       "  <tbody>\n",
       "    <tr>\n",
       "      <th>0</th>\n",
       "      <td>68092</td>\n",
       "      <td>105600</td>\n",
       "      <td>Terraria</td>\n",
       "      <td>You can be a werewolf riding a unicorn while s...</td>\n",
       "      <td>1</td>\n",
       "      <td>0</td>\n",
       "      <td>0.055</td>\n",
       "      <td>0.883</td>\n",
       "      <td>0.062</td>\n",
       "      <td>-0.2031</td>\n",
       "      <td>Negative</td>\n",
       "      <td>Neutral</td>\n",
       "    </tr>\n",
       "    <tr>\n",
       "      <th>1</th>\n",
       "      <td>68093</td>\n",
       "      <td>105600</td>\n",
       "      <td>Terraria</td>\n",
       "      <td>You should by 8 copies of this game and go aro...</td>\n",
       "      <td>1</td>\n",
       "      <td>0</td>\n",
       "      <td>0.151</td>\n",
       "      <td>0.732</td>\n",
       "      <td>0.117</td>\n",
       "      <td>-0.1779</td>\n",
       "      <td>Negative</td>\n",
       "      <td>Neutral</td>\n",
       "    </tr>\n",
       "    <tr>\n",
       "      <th>2</th>\n",
       "      <td>68094</td>\n",
       "      <td>105600</td>\n",
       "      <td>Terraria</td>\n",
       "      <td>Introduction</td>\n",
       "      <td>1</td>\n",
       "      <td>1</td>\n",
       "      <td>0.000</td>\n",
       "      <td>1.000</td>\n",
       "      <td>0.000</td>\n",
       "      <td>0.0000</td>\n",
       "      <td>Positive</td>\n",
       "      <td>Neutral</td>\n",
       "    </tr>\n",
       "    <tr>\n",
       "      <th>3</th>\n",
       "      <td>68095</td>\n",
       "      <td>105600</td>\n",
       "      <td>Terraria</td>\n",
       "      <td>If you have friends, this is a great game to p...</td>\n",
       "      <td>1</td>\n",
       "      <td>1</td>\n",
       "      <td>0.059</td>\n",
       "      <td>0.658</td>\n",
       "      <td>0.283</td>\n",
       "      <td>0.9608</td>\n",
       "      <td>Positive</td>\n",
       "      <td>Positive</td>\n",
       "    </tr>\n",
       "    <tr>\n",
       "      <th>4</th>\n",
       "      <td>68096</td>\n",
       "      <td>105600</td>\n",
       "      <td>Terraria</td>\n",
       "      <td>A Generic Comparison of Terraria versus Minecr...</td>\n",
       "      <td>1</td>\n",
       "      <td>0</td>\n",
       "      <td>0.000</td>\n",
       "      <td>1.000</td>\n",
       "      <td>0.000</td>\n",
       "      <td>0.0000</td>\n",
       "      <td>Positive</td>\n",
       "      <td>Neutral</td>\n",
       "    </tr>\n",
       "  </tbody>\n",
       "</table>\n",
       "</div>"
      ],
      "text/plain": [
       "      id  app_id  app_name                                        review_text  \\\n",
       "0  68092  105600  Terraria  You can be a werewolf riding a unicorn while s...   \n",
       "1  68093  105600  Terraria  You should by 8 copies of this game and go aro...   \n",
       "2  68094  105600  Terraria                                       Introduction   \n",
       "3  68095  105600  Terraria  If you have friends, this is a great game to p...   \n",
       "4  68096  105600  Terraria  A Generic Comparison of Terraria versus Minecr...   \n",
       "\n",
       "  review_score review_votes  Negative  Neutral  Positive  Compound  \\\n",
       "0            1            0     0.055    0.883     0.062   -0.2031   \n",
       "1            1            0     0.151    0.732     0.117   -0.1779   \n",
       "2            1            1     0.000    1.000     0.000    0.0000   \n",
       "3            1            1     0.059    0.658     0.283    0.9608   \n",
       "4            1            0     0.000    1.000     0.000    0.0000   \n",
       "\n",
       "  sentiment_pn_max sentiment_pn_compound  \n",
       "0         Negative               Neutral  \n",
       "1         Negative               Neutral  \n",
       "2         Positive               Neutral  \n",
       "3         Positive              Positive  \n",
       "4         Positive               Neutral  "
      ]
     },
     "execution_count": 83,
     "metadata": {},
     "output_type": "execute_result"
    }
   ],
   "source": [
    "data.head(5)"
   ]
  },
  {
   "cell_type": "code",
   "execution_count": 84,
   "id": "d69c7020-32a2-4281-8a09-f9f77b7d18c8",
   "metadata": {},
   "outputs": [],
   "source": [
    "import matplotlib.pyplot as plt\n",
    "import matplotlib"
   ]
  },
  {
   "cell_type": "code",
   "execution_count": 85,
   "id": "372baef2-c92b-4fc3-90f0-ad368af5a28e",
   "metadata": {},
   "outputs": [
    {
     "data": {
      "image/png": "[encoded data removed]",
      "text/plain": [
       "<Figure size 432x288 with 1 Axes>"
      ]
     },
     "metadata": {
      "needs_background": "light"
     },
     "output_type": "display_data"
    }
   ],
   "source": [
    "fig, ax = plt.subplots(1,1,figsize=(6,4))\n",
    "fig.suptitle('Distribution of Sentiment')\n",
    "ax.hist(data['Compound'],bins=25)\n",
    "ax.vlines(pos_cutoff,0,14000,color='gray')\n",
    "ax.vlines(neg_cutoff,0,14000,color='gray')\n",
    "ax.set_xlabel('Compound Index')\n",
    "ax.set_ylim(0,17500)\n",
    "ax.set_ylabel('N Observations')\n",
    "ax.text(-1,16000,'Negative')\n",
    "ax.text(0,16000,'Neutral')\n",
    "ax.text(.75,16000,'Positive')\n",
    "\n",
    "plt.show()"
   ]
  },
  {
   "cell_type": "code",
   "execution_count": 87,
   "id": "c1a3e4f9-b453-4c8b-af4a-e7f0cf27e366",
   "metadata": {},
   "outputs": [
    {
     "data": {
      "text/plain": [
       "<matplotlib.axes._subplots.AxesSubplot at 0x7f20ff4d9a60>"
      ]
     },
     "execution_count": 87,
     "metadata": {},
     "output_type": "execute_result"
    },
    {
     "data": {
      "image/png": "[encoded data removed]",
      "text/plain": [
       "<Figure size 432x288 with 1 Axes>"
      ]
     },
     "metadata": {
      "needs_background": "light"
     },
     "output_type": "display_data"
    }
   ],
   "source": [
    "data['sentiment_pn_compound'].value_counts().plot(kind='bar')"
   ]
  },
  {
   "cell_type": "code",
   "execution_count": null,
   "id": "1c02efd7-daa2-4bdf-ac4c-4c1b2c469bc1",
   "metadata": {},
   "outputs": [],
   "source": []
  }
 ],
 "metadata": {
  "kernelspec": {
   "display_name": "Python 3 (ipykernel)",
   "language": "python",
   "name": "python3"
  },
  "language_info": {
   "codemirror_mode": {
    "name": "ipython",
    "version": 3
   },
   "file_extension": ".py",
   "mimetype": "text/x-python",
   "name": "python",
   "nbconvert_exporter": "python",
   "pygments_lexer": "ipython3",
   "version": "3.8.10"
  }
 },
 "nbformat": 4,
 "nbformat_minor": 5
}
