{
 "cells": [
  {
   "cell_type": "markdown",
   "id": "1708b195-b870-4b3f-a3f3-c66a391e0953",
   "metadata": {},
   "source": [
    "# Sentiment Analysis Demonstration"
   ]
  },
  {
   "cell_type": "markdown",
   "id": "c8a8abbd-754d-43f1-855a-c1aea3c6fd06",
   "metadata": {},
   "source": [
    "This is a simple sentiment analysis demonstration from Medium"
   ]
  },
  {
   "cell_type": "markdown",
   "id": "b1fa7645-ba9a-4246-a23c-526186f3d118",
   "metadata": {},
   "source": [
    "https://medium.com/analytics-vidhya/simple-sentiment-analysis-python-bf9de2d75d0"
   ]
  },
  {
   "cell_type": "markdown",
   "id": "8e25e9a4-2c8f-444b-8d6f-8c0c86d71925",
   "metadata": {},
   "source": [
    "## Imports & Downloads"
   ]
  },
  {
   "cell_type": "code",
   "execution_count": 2,
   "id": "ec194ddd-843e-4709-8f78-a88344ea9d8b",
   "metadata": {},
   "outputs": [],
   "source": [
    "import nltk"
   ]
  },
  {
   "cell_type": "code",
   "execution_count": 3,
   "id": "17811d5e-7695-4cec-9773-2e173d360f29",
   "metadata": {},
   "outputs": [
    {
     "name": "stderr",
     "output_type": "stream",
     "text": [
      "[nltk_data] Downloading package vader_lexicon to\n",
      "[nltk_data]     /home/olivia/nltk_data...\n"
     ]
    },
    {
     "data": {
      "text/plain": [
       "True"
      ]
     },
     "execution_count": 3,
     "metadata": {},
     "output_type": "execute_result"
    }
   ],
   "source": [
    "nltk.download('vader_lexicon')"
   ]
  },
  {
   "cell_type": "code",
   "execution_count": 5,
   "id": "c13c64ef-4f18-4179-8c62-43e6d82e99b1",
   "metadata": {},
   "outputs": [],
   "source": [
    "import pandas as pd\n",
    "from nltk.sentiment.vader import SentimentIntensityAnalyzer"
   ]
  },
  {
   "cell_type": "markdown",
   "id": "fda9bf30-d633-4bd2-b1c3-641195b7d8d2",
   "metadata": {},
   "source": [
    "## Read in the data"
   ]
  },
  {
   "cell_type": "markdown",
   "id": "c8b64f6e-f938-4175-9c87-5b14d5b501e3",
   "metadata": {},
   "source": [
    "If you need to download the data, then get it from here: \n",
    "https://www.kaggle.com/datasets/arushchillar/disneyland-reviews"
   ]
  },
  {
   "cell_type": "code",
   "execution_count": 6,
   "id": "478fef31-e6c7-4b91-9b8b-372b3f5fa031",
   "metadata": {},
   "outputs": [],
   "source": [
    "data = pd.read_csv('DisneylandReviews.csv', encoding='latin-1')"
   ]
  },
  {
   "cell_type": "code",
   "execution_count": 9,
   "id": "d4567bb3-1e96-420b-92c5-3d0699d8a599",
   "metadata": {},
   "outputs": [
    {
     "data": {
      "text/html": [
       "<div>\n",
       "<style scoped>\n",
       "    .dataframe tbody tr th:only-of-type {\n",
       "        vertical-align: middle;\n",
       "    }\n",
       "\n",
       "    .dataframe tbody tr th {\n",
       "        vertical-align: top;\n",
       "    }\n",
       "\n",
       "    .dataframe thead th {\n",
       "        text-align: right;\n",
       "    }\n",
       "</style>\n",
       "<table border=\"1\" class=\"dataframe\">\n",
       "  <thead>\n",
       "    <tr style=\"text-align: right;\">\n",
       "      <th></th>\n",
       "      <th>Review_ID</th>\n",
       "      <th>Rating</th>\n",
       "      <th>Year_Month</th>\n",
       "      <th>Reviewer_Location</th>\n",
       "      <th>Review_Text</th>\n",
       "      <th>Branch</th>\n",
       "    </tr>\n",
       "  </thead>\n",
       "  <tbody>\n",
       "    <tr>\n",
       "      <th>0</th>\n",
       "      <td>670772142</td>\n",
       "      <td>4</td>\n",
       "      <td>2019-4</td>\n",
       "      <td>Australia</td>\n",
       "      <td>If you've ever been to Disneyland anywhere you...</td>\n",
       "      <td>Disneyland_HongKong</td>\n",
       "    </tr>\n",
       "    <tr>\n",
       "      <th>1</th>\n",
       "      <td>670682799</td>\n",
       "      <td>4</td>\n",
       "      <td>2019-5</td>\n",
       "      <td>Philippines</td>\n",
       "      <td>Its been a while since d last time we visit HK...</td>\n",
       "      <td>Disneyland_HongKong</td>\n",
       "    </tr>\n",
       "    <tr>\n",
       "      <th>2</th>\n",
       "      <td>670623270</td>\n",
       "      <td>4</td>\n",
       "      <td>2019-4</td>\n",
       "      <td>United Arab Emirates</td>\n",
       "      <td>Thanks God it wasn   t too hot or too humid wh...</td>\n",
       "      <td>Disneyland_HongKong</td>\n",
       "    </tr>\n",
       "    <tr>\n",
       "      <th>3</th>\n",
       "      <td>670607911</td>\n",
       "      <td>4</td>\n",
       "      <td>2019-4</td>\n",
       "      <td>Australia</td>\n",
       "      <td>HK Disneyland is a great compact park. Unfortu...</td>\n",
       "      <td>Disneyland_HongKong</td>\n",
       "    </tr>\n",
       "    <tr>\n",
       "      <th>4</th>\n",
       "      <td>670607296</td>\n",
       "      <td>4</td>\n",
       "      <td>2019-4</td>\n",
       "      <td>United Kingdom</td>\n",
       "      <td>the location is not in the city, took around 1...</td>\n",
       "      <td>Disneyland_HongKong</td>\n",
       "    </tr>\n",
       "  </tbody>\n",
       "</table>\n",
       "</div>"
      ],
      "text/plain": [
       "   Review_ID  Rating Year_Month     Reviewer_Location  \\\n",
       "0  670772142       4     2019-4             Australia   \n",
       "1  670682799       4     2019-5           Philippines   \n",
       "2  670623270       4     2019-4  United Arab Emirates   \n",
       "3  670607911       4     2019-4             Australia   \n",
       "4  670607296       4     2019-4        United Kingdom   \n",
       "\n",
       "                                         Review_Text               Branch  \n",
       "0  If you've ever been to Disneyland anywhere you...  Disneyland_HongKong  \n",
       "1  Its been a while since d last time we visit HK...  Disneyland_HongKong  \n",
       "2  Thanks God it wasn   t too hot or too humid wh...  Disneyland_HongKong  \n",
       "3  HK Disneyland is a great compact park. Unfortu...  Disneyland_HongKong  \n",
       "4  the location is not in the city, took around 1...  Disneyland_HongKong  "
      ]
     },
     "execution_count": 9,
     "metadata": {},
     "output_type": "execute_result"
    }
   ],
   "source": [
    "data.head(5)"
   ]
  },
  {
   "cell_type": "code",
   "execution_count": 7,
   "id": "005b7310-ce67-4802-8b8a-ea3e6dc650e6",
   "metadata": {},
   "outputs": [
    {
     "data": {
      "text/plain": [
       "(42656, 6)"
      ]
     },
     "execution_count": 7,
     "metadata": {},
     "output_type": "execute_result"
    }
   ],
   "source": [
    "data.shape"
   ]
  },
  {
   "cell_type": "code",
   "execution_count": 8,
   "id": "3130f241-9a7f-4395-bb3a-1558324cb4c4",
   "metadata": {},
   "outputs": [
    {
     "name": "stdout",
     "output_type": "stream",
     "text": [
      "<class 'pandas.core.frame.DataFrame'>\n",
      "RangeIndex: 42656 entries, 0 to 42655\n",
      "Data columns (total 6 columns):\n",
      "Review_ID            42656 non-null int64\n",
      "Rating               42656 non-null int64\n",
      "Year_Month           42656 non-null object\n",
      "Reviewer_Location    42656 non-null object\n",
      "Review_Text          42656 non-null object\n",
      "Branch               42656 non-null object\n",
      "dtypes: int64(2), object(4)\n",
      "memory usage: 2.0+ MB\n"
     ]
    }
   ],
   "source": [
    "data.info()"
   ]
  },
  {
   "cell_type": "markdown",
   "id": "9c01fec1-18e0-4959-b02d-d0c0a88742d1",
   "metadata": {},
   "source": [
    "## Prepare the data"
   ]
  },
  {
   "cell_type": "code",
   "execution_count": 10,
   "id": "0472d034-3fee-42b6-b670-8a2518da5b7a",
   "metadata": {},
   "outputs": [],
   "source": [
    "reviews = data[['Review_ID', 'Review_Text']]"
   ]
  },
  {
   "cell_type": "code",
   "execution_count": 11,
   "id": "0af5ec89-2412-435f-b67c-fcb56093601e",
   "metadata": {},
   "outputs": [
    {
     "data": {
      "text/html": [
       "<div>\n",
       "<style scoped>\n",
       "    .dataframe tbody tr th:only-of-type {\n",
       "        vertical-align: middle;\n",
       "    }\n",
       "\n",
       "    .dataframe tbody tr th {\n",
       "        vertical-align: top;\n",
       "    }\n",
       "\n",
       "    .dataframe thead th {\n",
       "        text-align: right;\n",
       "    }\n",
       "</style>\n",
       "<table border=\"1\" class=\"dataframe\">\n",
       "  <thead>\n",
       "    <tr style=\"text-align: right;\">\n",
       "      <th></th>\n",
       "      <th>Review_ID</th>\n",
       "      <th>Review_Text</th>\n",
       "    </tr>\n",
       "  </thead>\n",
       "  <tbody>\n",
       "    <tr>\n",
       "      <th>0</th>\n",
       "      <td>670772142</td>\n",
       "      <td>If you've ever been to Disneyland anywhere you...</td>\n",
       "    </tr>\n",
       "    <tr>\n",
       "      <th>1</th>\n",
       "      <td>670682799</td>\n",
       "      <td>Its been a while since d last time we visit HK...</td>\n",
       "    </tr>\n",
       "    <tr>\n",
       "      <th>2</th>\n",
       "      <td>670623270</td>\n",
       "      <td>Thanks God it wasn   t too hot or too humid wh...</td>\n",
       "    </tr>\n",
       "    <tr>\n",
       "      <th>3</th>\n",
       "      <td>670607911</td>\n",
       "      <td>HK Disneyland is a great compact park. Unfortu...</td>\n",
       "    </tr>\n",
       "    <tr>\n",
       "      <th>4</th>\n",
       "      <td>670607296</td>\n",
       "      <td>the location is not in the city, took around 1...</td>\n",
       "    </tr>\n",
       "  </tbody>\n",
       "</table>\n",
       "</div>"
      ],
      "text/plain": [
       "   Review_ID                                        Review_Text\n",
       "0  670772142  If you've ever been to Disneyland anywhere you...\n",
       "1  670682799  Its been a while since d last time we visit HK...\n",
       "2  670623270  Thanks God it wasn   t too hot or too humid wh...\n",
       "3  670607911  HK Disneyland is a great compact park. Unfortu...\n",
       "4  670607296  the location is not in the city, took around 1..."
      ]
     },
     "execution_count": 11,
     "metadata": {},
     "output_type": "execute_result"
    }
   ],
   "source": [
    "reviews.head(5)"
   ]
  },
  {
   "cell_type": "markdown",
   "id": "9b1a5953-dc4e-4460-87b3-dc1d5dce9170",
   "metadata": {},
   "source": [
    "## How to apply VADER to one review"
   ]
  },
  {
   "cell_type": "code",
   "execution_count": 14,
   "id": "b46a23bd-b65e-453a-aa3c-865f185ef27f",
   "metadata": {},
   "outputs": [
    {
     "data": {
      "text/plain": [
       "\"Disneyland never cease to amaze me! I've been to Disneyland florida and I thought I have exhausted the kid in me but nope! I still had so much fun in disneyland hong kong. 2 DL off my bucketlist and more to come!     \""
      ]
     },
     "execution_count": 14,
     "metadata": {},
     "output_type": "execute_result"
    }
   ],
   "source": [
    "rev = reviews['Review_Text'][10]\n",
    "rev"
   ]
  },
  {
   "cell_type": "code",
   "execution_count": 16,
   "id": "71395bba-0f35-4362-a98a-38104632d166",
   "metadata": {},
   "outputs": [
    {
     "data": {
      "text/plain": [
       "{'neg': 0.083, 'neu': 0.788, 'pos': 0.129, 'compound': 0.621}"
      ]
     },
     "execution_count": 16,
     "metadata": {},
     "output_type": "execute_result"
    }
   ],
   "source": [
    "analyzer = SentimentIntensityAnalyzer()\n",
    "analyzer.polarity_scores(rev)"
   ]
  },
  {
   "cell_type": "code",
   "execution_count": 21,
   "id": "48855ae9-d62a-4095-a072-564964798257",
   "metadata": {},
   "outputs": [],
   "source": [
    "body = reviews.Review_Text\n",
    "neg, neu, pos, compound = [],[],[],[]\n",
    "for review in body:\n",
    "    res = analyzer.polarity_scores(review)\n",
    "    neg.append(res['neg'])\n",
    "    neu.append(res['neu'])\n",
    "    pos.append(res['pos'])\n",
    "    compound.append(res['compound'])"
   ]
  },
  {
   "cell_type": "code",
   "execution_count": 22,
   "id": "d21d121c-0770-4b73-ae94-dcd4ad7aaa18",
   "metadata": {},
   "outputs": [
    {
     "data": {
      "text/plain": [
       "42656"
      ]
     },
     "execution_count": 22,
     "metadata": {},
     "output_type": "execute_result"
    }
   ],
   "source": [
    "len(compound)"
   ]
  },
  {
   "cell_type": "code",
   "execution_count": 23,
   "id": "ff72a8a6-c77e-45fb-af1b-c08131fac444",
   "metadata": {},
   "outputs": [
    {
     "name": "stdout",
     "output_type": "stream",
     "text": [
      "<class 'pandas.core.frame.DataFrame'>\n",
      "RangeIndex: 42656 entries, 0 to 42655\n",
      "Data columns (total 2 columns):\n",
      "Review_ID      42656 non-null int64\n",
      "Review_Text    42656 non-null object\n",
      "dtypes: int64(1), object(1)\n",
      "memory usage: 666.6+ KB\n"
     ]
    }
   ],
   "source": [
    "reviews.info()"
   ]
  },
  {
   "cell_type": "code",
   "execution_count": 24,
   "id": "543144ab-c5c7-4790-a6f9-81fcb1b2718d",
   "metadata": {},
   "outputs": [
    {
     "name": "stderr",
     "output_type": "stream",
     "text": [
      "/tmp/ipykernel_4400/1134790913.py:1: SettingWithCopyWarning: \n",
      "A value is trying to be set on a copy of a slice from a DataFrame.\n",
      "Try using .loc[row_indexer,col_indexer] = value instead\n",
      "\n",
      "See the caveats in the documentation: http://pandas.pydata.org/pandas-docs/stable/user_guide/indexing.html#returning-a-view-versus-a-copy\n",
      "  reviews['Negative'] = neg\n",
      "/tmp/ipykernel_4400/1134790913.py:2: SettingWithCopyWarning: \n",
      "A value is trying to be set on a copy of a slice from a DataFrame.\n",
      "Try using .loc[row_indexer,col_indexer] = value instead\n",
      "\n",
      "See the caveats in the documentation: http://pandas.pydata.org/pandas-docs/stable/user_guide/indexing.html#returning-a-view-versus-a-copy\n",
      "  reviews['Neutral'] = neu\n",
      "/tmp/ipykernel_4400/1134790913.py:3: SettingWithCopyWarning: \n",
      "A value is trying to be set on a copy of a slice from a DataFrame.\n",
      "Try using .loc[row_indexer,col_indexer] = value instead\n",
      "\n",
      "See the caveats in the documentation: http://pandas.pydata.org/pandas-docs/stable/user_guide/indexing.html#returning-a-view-versus-a-copy\n",
      "  reviews['Positive'] = pos\n"
     ]
    },
    {
     "data": {
      "text/html": [
       "<div>\n",
       "<style scoped>\n",
       "    .dataframe tbody tr th:only-of-type {\n",
       "        vertical-align: middle;\n",
       "    }\n",
       "\n",
       "    .dataframe tbody tr th {\n",
       "        vertical-align: top;\n",
       "    }\n",
       "\n",
       "    .dataframe thead th {\n",
       "        text-align: right;\n",
       "    }\n",
       "</style>\n",
       "<table border=\"1\" class=\"dataframe\">\n",
       "  <thead>\n",
       "    <tr style=\"text-align: right;\">\n",
       "      <th></th>\n",
       "      <th>Review_ID</th>\n",
       "      <th>Review_Text</th>\n",
       "      <th>Negative</th>\n",
       "      <th>Neutral</th>\n",
       "      <th>Positive</th>\n",
       "      <th>Compound</th>\n",
       "    </tr>\n",
       "  </thead>\n",
       "  <tbody>\n",
       "    <tr>\n",
       "      <th>0</th>\n",
       "      <td>670772142</td>\n",
       "      <td>If you've ever been to Disneyland anywhere you...</td>\n",
       "      <td>0.000</td>\n",
       "      <td>0.887</td>\n",
       "      <td>0.113</td>\n",
       "      <td>0.7069</td>\n",
       "    </tr>\n",
       "    <tr>\n",
       "      <th>1</th>\n",
       "      <td>670682799</td>\n",
       "      <td>Its been a while since d last time we visit HK...</td>\n",
       "      <td>0.040</td>\n",
       "      <td>0.730</td>\n",
       "      <td>0.231</td>\n",
       "      <td>0.9901</td>\n",
       "    </tr>\n",
       "    <tr>\n",
       "      <th>2</th>\n",
       "      <td>670623270</td>\n",
       "      <td>Thanks God it wasn   t too hot or too humid wh...</td>\n",
       "      <td>0.024</td>\n",
       "      <td>0.742</td>\n",
       "      <td>0.235</td>\n",
       "      <td>0.9920</td>\n",
       "    </tr>\n",
       "    <tr>\n",
       "      <th>3</th>\n",
       "      <td>670607911</td>\n",
       "      <td>HK Disneyland is a great compact park. Unfortu...</td>\n",
       "      <td>0.080</td>\n",
       "      <td>0.760</td>\n",
       "      <td>0.160</td>\n",
       "      <td>0.8489</td>\n",
       "    </tr>\n",
       "    <tr>\n",
       "      <th>4</th>\n",
       "      <td>670607296</td>\n",
       "      <td>the location is not in the city, took around 1...</td>\n",
       "      <td>0.000</td>\n",
       "      <td>0.899</td>\n",
       "      <td>0.101</td>\n",
       "      <td>0.2846</td>\n",
       "    </tr>\n",
       "  </tbody>\n",
       "</table>\n",
       "</div>"
      ],
      "text/plain": [
       "   Review_ID                                        Review_Text  Negative  \\\n",
       "0  670772142  If you've ever been to Disneyland anywhere you...     0.000   \n",
       "1  670682799  Its been a while since d last time we visit HK...     0.040   \n",
       "2  670623270  Thanks God it wasn   t too hot or too humid wh...     0.024   \n",
       "3  670607911  HK Disneyland is a great compact park. Unfortu...     0.080   \n",
       "4  670607296  the location is not in the city, took around 1...     0.000   \n",
       "\n",
       "   Neutral  Positive  Compound  \n",
       "0    0.887     0.113    0.7069  \n",
       "1    0.730     0.231    0.9901  \n",
       "2    0.742     0.235    0.9920  \n",
       "3    0.760     0.160    0.8489  \n",
       "4    0.899     0.101    0.2846  "
      ]
     },
     "execution_count": 24,
     "metadata": {},
     "output_type": "execute_result"
    }
   ],
   "source": [
    "reviews['Negative'] = neg\n",
    "reviews['Neutral'] = neu\n",
    "reviews['Positive'] = pos\n",
    "reviews['Compound'] = compound\n",
    "reviews.head(5)"
   ]
  },
  {
   "cell_type": "code",
   "execution_count": 29,
   "id": "c62ee028-a681-45d6-8a0c-dfb078850e3e",
   "metadata": {},
   "outputs": [],
   "source": [
    "tags = []\n",
    "for i in range(len(reviews)):\n",
    "    winning_val = max(neg[i], pos[i])\n",
    "    if(winning_val == neg[i]):\n",
    "        tags.append('Negative')\n",
    "    else:\n",
    "        tags.append('Positive')"
   ]
  },
  {
   "cell_type": "code",
   "execution_count": 30,
   "id": "726097f9-b85b-4b9a-b688-ed5e9ef3a4cd",
   "metadata": {},
   "outputs": [
    {
     "data": {
      "text/html": [
       "<div>\n",
       "<style scoped>\n",
       "    .dataframe tbody tr th:only-of-type {\n",
       "        vertical-align: middle;\n",
       "    }\n",
       "\n",
       "    .dataframe tbody tr th {\n",
       "        vertical-align: top;\n",
       "    }\n",
       "\n",
       "    .dataframe thead th {\n",
       "        text-align: right;\n",
       "    }\n",
       "</style>\n",
       "<table border=\"1\" class=\"dataframe\">\n",
       "  <thead>\n",
       "    <tr style=\"text-align: right;\">\n",
       "      <th></th>\n",
       "      <th>Review_ID</th>\n",
       "      <th>Review_Text</th>\n",
       "      <th>Negative</th>\n",
       "      <th>Neutral</th>\n",
       "      <th>Positive</th>\n",
       "      <th>Compound</th>\n",
       "      <th>Sentiment_Tag</th>\n",
       "    </tr>\n",
       "  </thead>\n",
       "  <tbody>\n",
       "    <tr>\n",
       "      <th>0</th>\n",
       "      <td>670772142</td>\n",
       "      <td>If you've ever been to Disneyland anywhere you...</td>\n",
       "      <td>0.000</td>\n",
       "      <td>0.887</td>\n",
       "      <td>0.113</td>\n",
       "      <td>0.7069</td>\n",
       "      <td>Positive</td>\n",
       "    </tr>\n",
       "    <tr>\n",
       "      <th>1</th>\n",
       "      <td>670682799</td>\n",
       "      <td>Its been a while since d last time we visit HK...</td>\n",
       "      <td>0.040</td>\n",
       "      <td>0.730</td>\n",
       "      <td>0.231</td>\n",
       "      <td>0.9901</td>\n",
       "      <td>Positive</td>\n",
       "    </tr>\n",
       "    <tr>\n",
       "      <th>2</th>\n",
       "      <td>670623270</td>\n",
       "      <td>Thanks God it wasn   t too hot or too humid wh...</td>\n",
       "      <td>0.024</td>\n",
       "      <td>0.742</td>\n",
       "      <td>0.235</td>\n",
       "      <td>0.9920</td>\n",
       "      <td>Positive</td>\n",
       "    </tr>\n",
       "    <tr>\n",
       "      <th>3</th>\n",
       "      <td>670607911</td>\n",
       "      <td>HK Disneyland is a great compact park. Unfortu...</td>\n",
       "      <td>0.080</td>\n",
       "      <td>0.760</td>\n",
       "      <td>0.160</td>\n",
       "      <td>0.8489</td>\n",
       "      <td>Positive</td>\n",
       "    </tr>\n",
       "    <tr>\n",
       "      <th>4</th>\n",
       "      <td>670607296</td>\n",
       "      <td>the location is not in the city, took around 1...</td>\n",
       "      <td>0.000</td>\n",
       "      <td>0.899</td>\n",
       "      <td>0.101</td>\n",
       "      <td>0.2846</td>\n",
       "      <td>Positive</td>\n",
       "    </tr>\n",
       "  </tbody>\n",
       "</table>\n",
       "</div>"
      ],
      "text/plain": [
       "   Review_ID                                        Review_Text  Negative  \\\n",
       "0  670772142  If you've ever been to Disneyland anywhere you...     0.000   \n",
       "1  670682799  Its been a while since d last time we visit HK...     0.040   \n",
       "2  670623270  Thanks God it wasn   t too hot or too humid wh...     0.024   \n",
       "3  670607911  HK Disneyland is a great compact park. Unfortu...     0.080   \n",
       "4  670607296  the location is not in the city, took around 1...     0.000   \n",
       "\n",
       "   Neutral  Positive  Compound Sentiment_Tag  \n",
       "0    0.887     0.113    0.7069      Positive  \n",
       "1    0.730     0.231    0.9901      Positive  \n",
       "2    0.742     0.235    0.9920      Positive  \n",
       "3    0.760     0.160    0.8489      Positive  \n",
       "4    0.899     0.101    0.2846      Positive  "
      ]
     },
     "execution_count": 30,
     "metadata": {},
     "output_type": "execute_result"
    }
   ],
   "source": [
    "reviews['Sentiment_Tag'] = tags\n",
    "reviews.head()"
   ]
  },
  {
   "cell_type": "code",
   "execution_count": null,
   "id": "89a7f429-cbe1-4186-9796-2f251d470b30",
   "metadata": {},
   "outputs": [],
   "source": []
  }
 ],
 "metadata": {
  "kernelspec": {
   "display_name": "Python 3 (ipykernel)",
   "language": "python",
   "name": "python3"
  },
  "language_info": {
   "codemirror_mode": {
    "name": "ipython",
    "version": 3
   },
   "file_extension": ".py",
   "mimetype": "text/x-python",
   "name": "python",
   "nbconvert_exporter": "python",
   "pygments_lexer": "ipython3",
   "version": "3.8.10"
  }
 },
 "nbformat": 4,
 "nbformat_minor": 5
}
