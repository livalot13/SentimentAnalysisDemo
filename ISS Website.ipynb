{
 "cells": [
  {
   "cell_type": "markdown",
   "id": "c201f095-e178-4a30-be5c-95d87c5e29c5",
   "metadata": {},
   "source": [
    "# ISS Website Analysis"
   ]
  },
  {
   "cell_type": "code",
   "execution_count": 31,
   "id": "638bcfcd-8737-43a6-8430-a12e8dcede1b",
   "metadata": {},
   "outputs": [],
   "source": [
    "import nltk"
   ]
  },
  {
   "cell_type": "code",
   "execution_count": 5,
   "id": "67630246-30dc-4e9d-87ba-59578a21994d",
   "metadata": {},
   "outputs": [],
   "source": [
    "import pandas as pd\n",
    "from nltk.sentiment.vader import SentimentIntensityAnalyzer"
   ]
  },
  {
   "cell_type": "code",
   "execution_count": 6,
   "id": "c1c22de1-0296-4a96-91d3-1fff9fcdd84f",
   "metadata": {},
   "outputs": [],
   "source": [
    "iss = \"\"\"\n",
    "Whatever success I have had, in both academics and business, can be traced directly back to the years that I spent at Indian Springs. This is where I became a lifelong learner. My hope is to instill in my students is the same passion and excitement that my teachers at this school did for me all those years ago.\n",
    "\"\"\""
   ]
  },
  {
   "cell_type": "code",
   "execution_count": 8,
   "id": "39127217-9d07-42c7-9c4d-5a6c66b3fa6d",
   "metadata": {},
   "outputs": [],
   "source": [
    "iss = \"\"\"\n",
    "As you navigate the pages of our website, you will discover a school community where students are encouraged to lead and explore. The backdrop of an Indian Springs education is our 350-acre campus, unrivaled in its natural beauty and cutting edge facilities. Indian Springs’ students are inspired by a sense of place and nurtured by a world-class faculty whose passion for teaching and learning is surpassed only by their dedication to each individual student. Guided by our Motto, Learning through Living, Indian Springs has been educating ambitious and independent-thinking students from Birmingham, across the Southeast and United States, and around the world since 1952. \n",
    "\n",
    "Since I first arrived in July, 2020, I have witnessed the transformational power of the Indian Springs experience. Countless alums and current students have recounted their stories to me, and although each is distinct, they all share similarities that are at the heart of the Indian Springs journey. Our school community encourages students to discover their interests, passions, and who they are; teaches them to be self-advocates and courageous leaders; and challenges them through active participation in self-governance to make a positive impact on the world. Our Core Values of Innovative Thinking, Intellectual Curiosity, Integrity, Inclusion, Infinite Respect, and Involvement are the foundation of an Indian Springs education\n",
    "\n",
    "The pages within our website are a good introduction to the school, but words and pictures cannot replace experiencing Indian Springs School for yourself. I invite you to visit campus and see firsthand what makes Indian Springs so special. You will no doubt be captivated by the beauty of our campus as our resident swans swim across the lake, but more importantly, you will be struck by the sense of community and the deep and abiding relationships that we enjoy here. \n",
    "\n",
    "We look forward to seeing you on campus soon.\n",
    "\"\"\""
   ]
  },
  {
   "cell_type": "code",
   "execution_count": 9,
   "id": "32bf3a7e-6c27-47a3-a28f-d69c85b0d7d5",
   "metadata": {},
   "outputs": [
    {
     "data": {
      "text/plain": [
       "{'neg': 0.029, 'neu': 0.777, 'pos': 0.194, 'compound': 0.9925}"
      ]
     },
     "execution_count": 9,
     "metadata": {},
     "output_type": "execute_result"
    }
   ],
   "source": [
    "analyzer = SentimentIntensityAnalyzer()\n",
    "analyzer.polarity_scores(iss)"
   ]
  },
  {
   "cell_type": "code",
   "execution_count": null,
   "id": "ced3b24d-2d85-44f3-8385-1825f4188903",
   "metadata": {},
   "outputs": [],
   "source": []
  }
 ],
 "metadata": {
  "kernelspec": {
   "display_name": "Python 3 (ipykernel)",
   "language": "python",
   "name": "python3"
  },
  "language_info": {
   "codemirror_mode": {
    "name": "ipython",
    "version": 3
   },
   "file_extension": ".py",
   "mimetype": "text/x-python",
   "name": "python",
   "nbconvert_exporter": "python",
   "pygments_lexer": "ipython3",
   "version": "3.8.10"
  }
 },
 "nbformat": 4,
 "nbformat_minor": 5
}
